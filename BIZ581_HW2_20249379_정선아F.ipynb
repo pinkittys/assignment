{
  "nbformat": 4,
  "nbformat_minor": 0,
  "metadata": {
    "colab": {
      "provenance": [],
      "collapsed_sections": [
        "DOu3ifF0JBw7"
      ],
      "authorship_tag": "ABX9TyOr0YPlbx6I8VlIjgSFltwD",
      "include_colab_link": true
    },
    "kernelspec": {
      "name": "python3",
      "display_name": "Python 3"
    },
    "language_info": {
      "name": "python"
    }
  },
  "cells": [
    {
      "cell_type": "markdown",
      "metadata": {
        "id": "view-in-github",
        "colab_type": "text"
      },
      "source": [
        "<a href=\"https://colab.research.google.com/github/pinkittys/assignment/blob/main/BIZ581_HW2_20249379_%EC%A0%95%EC%84%A0%EC%95%84F.ipynb\" target=\"_parent\"><img src=\"https://colab.research.google.com/assets/colab-badge.svg\" alt=\"Open In Colab\"/></a>"
      ]
    },
    {
      "cell_type": "markdown",
      "source": [
        "\n",
        "# **Setup : Load Data**\n",
        "\n"
      ],
      "metadata": {
        "id": "NKgm3u47MC80"
      }
    },
    {
      "cell_type": "code",
      "execution_count": 110,
      "metadata": {
        "id": "dXSyHrEtLuAw"
      },
      "outputs": [],
      "source": [
        "# 필수 라이브러리 임포트\n",
        "import pandas as pd # DataFrame을 다루는 데이터 전처리 패키지\n",
        "import matplotlib.pyplot as plt # 기본 시각화 패키지\n",
        "import seaborn as sns # 고급 시각화 패키지\n",
        "from scipy import stats # statistics tools\n",
        "import statsmodels.api as sm # linear models"
      ]
    },
    {
      "cell_type": "code",
      "source": [
        "# 데이터 불러오기\n",
        "df = pd.read_csv('/content/banking.csv')"
      ],
      "metadata": {
        "id": "z8qKZogkMR2S"
      },
      "execution_count": 111,
      "outputs": []
    },
    {
      "cell_type": "code",
      "source": [
        "# 데이터 구조 확인\n",
        "df.info()\n",
        "df.head()"
      ],
      "metadata": {
        "colab": {
          "base_uri": "https://localhost:8080/",
          "height": 456
        },
        "id": "YF14jMTDMlJM",
        "outputId": "1db5d369-3e9e-4064-e1b9-a56502ba7fb5"
      },
      "execution_count": 112,
      "outputs": [
        {
          "output_type": "stream",
          "name": "stdout",
          "text": [
            "<class 'pandas.core.frame.DataFrame'>\n",
            "RangeIndex: 31634 entries, 0 to 31633\n",
            "Data columns (total 7 columns):\n",
            " #   Column    Non-Null Count  Dtype  \n",
            "---  ------    --------------  -----  \n",
            " 0   id        31634 non-null  int64  \n",
            " 1   profit    31634 non-null  int64  \n",
            " 2   tenure    31634 non-null  float64\n",
            " 3   district  31634 non-null  int64  \n",
            " 4   online    31634 non-null  int64  \n",
            " 5   inc       23373 non-null  float64\n",
            " 6   age       23345 non-null  float64\n",
            "dtypes: float64(3), int64(4)\n",
            "memory usage: 1.7 MB\n"
          ]
        },
        {
          "output_type": "execute_result",
          "data": {
            "text/plain": [
              "      id  profit  tenure  district  online  inc  age\n",
              "0   6460    2071   23.75      1200       0  7.0  5.0\n",
              "1   1262    2063    2.75      1200       0  9.0  3.0\n",
              "2  29876    2062    1.25      1200       0  7.0  4.0\n",
              "3  30182    2062   21.25      1200       0  5.0  5.0\n",
              "4  24636    2061   21.16      1200       0  9.0  4.0"
            ],
            "text/html": [
              "\n",
              "  <div id=\"df-b043a922-a165-43c3-a05c-35fb317c73f2\" class=\"colab-df-container\">\n",
              "    <div>\n",
              "<style scoped>\n",
              "    .dataframe tbody tr th:only-of-type {\n",
              "        vertical-align: middle;\n",
              "    }\n",
              "\n",
              "    .dataframe tbody tr th {\n",
              "        vertical-align: top;\n",
              "    }\n",
              "\n",
              "    .dataframe thead th {\n",
              "        text-align: right;\n",
              "    }\n",
              "</style>\n",
              "<table border=\"1\" class=\"dataframe\">\n",
              "  <thead>\n",
              "    <tr style=\"text-align: right;\">\n",
              "      <th></th>\n",
              "      <th>id</th>\n",
              "      <th>profit</th>\n",
              "      <th>tenure</th>\n",
              "      <th>district</th>\n",
              "      <th>online</th>\n",
              "      <th>inc</th>\n",
              "      <th>age</th>\n",
              "    </tr>\n",
              "  </thead>\n",
              "  <tbody>\n",
              "    <tr>\n",
              "      <th>0</th>\n",
              "      <td>6460</td>\n",
              "      <td>2071</td>\n",
              "      <td>23.75</td>\n",
              "      <td>1200</td>\n",
              "      <td>0</td>\n",
              "      <td>7.0</td>\n",
              "      <td>5.0</td>\n",
              "    </tr>\n",
              "    <tr>\n",
              "      <th>1</th>\n",
              "      <td>1262</td>\n",
              "      <td>2063</td>\n",
              "      <td>2.75</td>\n",
              "      <td>1200</td>\n",
              "      <td>0</td>\n",
              "      <td>9.0</td>\n",
              "      <td>3.0</td>\n",
              "    </tr>\n",
              "    <tr>\n",
              "      <th>2</th>\n",
              "      <td>29876</td>\n",
              "      <td>2062</td>\n",
              "      <td>1.25</td>\n",
              "      <td>1200</td>\n",
              "      <td>0</td>\n",
              "      <td>7.0</td>\n",
              "      <td>4.0</td>\n",
              "    </tr>\n",
              "    <tr>\n",
              "      <th>3</th>\n",
              "      <td>30182</td>\n",
              "      <td>2062</td>\n",
              "      <td>21.25</td>\n",
              "      <td>1200</td>\n",
              "      <td>0</td>\n",
              "      <td>5.0</td>\n",
              "      <td>5.0</td>\n",
              "    </tr>\n",
              "    <tr>\n",
              "      <th>4</th>\n",
              "      <td>24636</td>\n",
              "      <td>2061</td>\n",
              "      <td>21.16</td>\n",
              "      <td>1200</td>\n",
              "      <td>0</td>\n",
              "      <td>9.0</td>\n",
              "      <td>4.0</td>\n",
              "    </tr>\n",
              "  </tbody>\n",
              "</table>\n",
              "</div>\n",
              "    <div class=\"colab-df-buttons\">\n",
              "\n",
              "  <div class=\"colab-df-container\">\n",
              "    <button class=\"colab-df-convert\" onclick=\"convertToInteractive('df-b043a922-a165-43c3-a05c-35fb317c73f2')\"\n",
              "            title=\"Convert this dataframe to an interactive table.\"\n",
              "            style=\"display:none;\">\n",
              "\n",
              "  <svg xmlns=\"http://www.w3.org/2000/svg\" height=\"24px\" viewBox=\"0 -960 960 960\">\n",
              "    <path d=\"M120-120v-720h720v720H120Zm60-500h600v-160H180v160Zm220 220h160v-160H400v160Zm0 220h160v-160H400v160ZM180-400h160v-160H180v160Zm440 0h160v-160H620v160ZM180-180h160v-160H180v160Zm440 0h160v-160H620v160Z\"/>\n",
              "  </svg>\n",
              "    </button>\n",
              "\n",
              "  <style>\n",
              "    .colab-df-container {\n",
              "      display:flex;\n",
              "      gap: 12px;\n",
              "    }\n",
              "\n",
              "    .colab-df-convert {\n",
              "      background-color: #E8F0FE;\n",
              "      border: none;\n",
              "      border-radius: 50%;\n",
              "      cursor: pointer;\n",
              "      display: none;\n",
              "      fill: #1967D2;\n",
              "      height: 32px;\n",
              "      padding: 0 0 0 0;\n",
              "      width: 32px;\n",
              "    }\n",
              "\n",
              "    .colab-df-convert:hover {\n",
              "      background-color: #E2EBFA;\n",
              "      box-shadow: 0px 1px 2px rgba(60, 64, 67, 0.3), 0px 1px 3px 1px rgba(60, 64, 67, 0.15);\n",
              "      fill: #174EA6;\n",
              "    }\n",
              "\n",
              "    .colab-df-buttons div {\n",
              "      margin-bottom: 4px;\n",
              "    }\n",
              "\n",
              "    [theme=dark] .colab-df-convert {\n",
              "      background-color: #3B4455;\n",
              "      fill: #D2E3FC;\n",
              "    }\n",
              "\n",
              "    [theme=dark] .colab-df-convert:hover {\n",
              "      background-color: #434B5C;\n",
              "      box-shadow: 0px 1px 3px 1px rgba(0, 0, 0, 0.15);\n",
              "      filter: drop-shadow(0px 1px 2px rgba(0, 0, 0, 0.3));\n",
              "      fill: #FFFFFF;\n",
              "    }\n",
              "  </style>\n",
              "\n",
              "    <script>\n",
              "      const buttonEl =\n",
              "        document.querySelector('#df-b043a922-a165-43c3-a05c-35fb317c73f2 button.colab-df-convert');\n",
              "      buttonEl.style.display =\n",
              "        google.colab.kernel.accessAllowed ? 'block' : 'none';\n",
              "\n",
              "      async function convertToInteractive(key) {\n",
              "        const element = document.querySelector('#df-b043a922-a165-43c3-a05c-35fb317c73f2');\n",
              "        const dataTable =\n",
              "          await google.colab.kernel.invokeFunction('convertToInteractive',\n",
              "                                                    [key], {});\n",
              "        if (!dataTable) return;\n",
              "\n",
              "        const docLinkHtml = 'Like what you see? Visit the ' +\n",
              "          '<a target=\"_blank\" href=https://colab.research.google.com/notebooks/data_table.ipynb>data table notebook</a>'\n",
              "          + ' to learn more about interactive tables.';\n",
              "        element.innerHTML = '';\n",
              "        dataTable['output_type'] = 'display_data';\n",
              "        await google.colab.output.renderOutput(dataTable, element);\n",
              "        const docLink = document.createElement('div');\n",
              "        docLink.innerHTML = docLinkHtml;\n",
              "        element.appendChild(docLink);\n",
              "      }\n",
              "    </script>\n",
              "  </div>\n",
              "\n",
              "\n",
              "<div id=\"df-247c25cc-5210-4780-bcd8-b94e784c2609\">\n",
              "  <button class=\"colab-df-quickchart\" onclick=\"quickchart('df-247c25cc-5210-4780-bcd8-b94e784c2609')\"\n",
              "            title=\"Suggest charts\"\n",
              "            style=\"display:none;\">\n",
              "\n",
              "<svg xmlns=\"http://www.w3.org/2000/svg\" height=\"24px\"viewBox=\"0 0 24 24\"\n",
              "     width=\"24px\">\n",
              "    <g>\n",
              "        <path d=\"M19 3H5c-1.1 0-2 .9-2 2v14c0 1.1.9 2 2 2h14c1.1 0 2-.9 2-2V5c0-1.1-.9-2-2-2zM9 17H7v-7h2v7zm4 0h-2V7h2v10zm4 0h-2v-4h2v4z\"/>\n",
              "    </g>\n",
              "</svg>\n",
              "  </button>\n",
              "\n",
              "<style>\n",
              "  .colab-df-quickchart {\n",
              "      --bg-color: #E8F0FE;\n",
              "      --fill-color: #1967D2;\n",
              "      --hover-bg-color: #E2EBFA;\n",
              "      --hover-fill-color: #174EA6;\n",
              "      --disabled-fill-color: #AAA;\n",
              "      --disabled-bg-color: #DDD;\n",
              "  }\n",
              "\n",
              "  [theme=dark] .colab-df-quickchart {\n",
              "      --bg-color: #3B4455;\n",
              "      --fill-color: #D2E3FC;\n",
              "      --hover-bg-color: #434B5C;\n",
              "      --hover-fill-color: #FFFFFF;\n",
              "      --disabled-bg-color: #3B4455;\n",
              "      --disabled-fill-color: #666;\n",
              "  }\n",
              "\n",
              "  .colab-df-quickchart {\n",
              "    background-color: var(--bg-color);\n",
              "    border: none;\n",
              "    border-radius: 50%;\n",
              "    cursor: pointer;\n",
              "    display: none;\n",
              "    fill: var(--fill-color);\n",
              "    height: 32px;\n",
              "    padding: 0;\n",
              "    width: 32px;\n",
              "  }\n",
              "\n",
              "  .colab-df-quickchart:hover {\n",
              "    background-color: var(--hover-bg-color);\n",
              "    box-shadow: 0 1px 2px rgba(60, 64, 67, 0.3), 0 1px 3px 1px rgba(60, 64, 67, 0.15);\n",
              "    fill: var(--button-hover-fill-color);\n",
              "  }\n",
              "\n",
              "  .colab-df-quickchart-complete:disabled,\n",
              "  .colab-df-quickchart-complete:disabled:hover {\n",
              "    background-color: var(--disabled-bg-color);\n",
              "    fill: var(--disabled-fill-color);\n",
              "    box-shadow: none;\n",
              "  }\n",
              "\n",
              "  .colab-df-spinner {\n",
              "    border: 2px solid var(--fill-color);\n",
              "    border-color: transparent;\n",
              "    border-bottom-color: var(--fill-color);\n",
              "    animation:\n",
              "      spin 1s steps(1) infinite;\n",
              "  }\n",
              "\n",
              "  @keyframes spin {\n",
              "    0% {\n",
              "      border-color: transparent;\n",
              "      border-bottom-color: var(--fill-color);\n",
              "      border-left-color: var(--fill-color);\n",
              "    }\n",
              "    20% {\n",
              "      border-color: transparent;\n",
              "      border-left-color: var(--fill-color);\n",
              "      border-top-color: var(--fill-color);\n",
              "    }\n",
              "    30% {\n",
              "      border-color: transparent;\n",
              "      border-left-color: var(--fill-color);\n",
              "      border-top-color: var(--fill-color);\n",
              "      border-right-color: var(--fill-color);\n",
              "    }\n",
              "    40% {\n",
              "      border-color: transparent;\n",
              "      border-right-color: var(--fill-color);\n",
              "      border-top-color: var(--fill-color);\n",
              "    }\n",
              "    60% {\n",
              "      border-color: transparent;\n",
              "      border-right-color: var(--fill-color);\n",
              "    }\n",
              "    80% {\n",
              "      border-color: transparent;\n",
              "      border-right-color: var(--fill-color);\n",
              "      border-bottom-color: var(--fill-color);\n",
              "    }\n",
              "    90% {\n",
              "      border-color: transparent;\n",
              "      border-bottom-color: var(--fill-color);\n",
              "    }\n",
              "  }\n",
              "</style>\n",
              "\n",
              "  <script>\n",
              "    async function quickchart(key) {\n",
              "      const quickchartButtonEl =\n",
              "        document.querySelector('#' + key + ' button');\n",
              "      quickchartButtonEl.disabled = true;  // To prevent multiple clicks.\n",
              "      quickchartButtonEl.classList.add('colab-df-spinner');\n",
              "      try {\n",
              "        const charts = await google.colab.kernel.invokeFunction(\n",
              "            'suggestCharts', [key], {});\n",
              "      } catch (error) {\n",
              "        console.error('Error during call to suggestCharts:', error);\n",
              "      }\n",
              "      quickchartButtonEl.classList.remove('colab-df-spinner');\n",
              "      quickchartButtonEl.classList.add('colab-df-quickchart-complete');\n",
              "    }\n",
              "    (() => {\n",
              "      let quickchartButtonEl =\n",
              "        document.querySelector('#df-247c25cc-5210-4780-bcd8-b94e784c2609 button');\n",
              "      quickchartButtonEl.style.display =\n",
              "        google.colab.kernel.accessAllowed ? 'block' : 'none';\n",
              "    })();\n",
              "  </script>\n",
              "</div>\n",
              "\n",
              "    </div>\n",
              "  </div>\n"
            ],
            "application/vnd.google.colaboratory.intrinsic+json": {
              "type": "dataframe",
              "variable_name": "df",
              "summary": "{\n  \"name\": \"df\",\n  \"rows\": 31634,\n  \"fields\": [\n    {\n      \"column\": \"id\",\n      \"properties\": {\n        \"dtype\": \"number\",\n        \"std\": 9132,\n        \"min\": 1,\n        \"max\": 31634,\n        \"num_unique_values\": 31634,\n        \"samples\": [\n          17748,\n          18799,\n          19460\n        ],\n        \"semantic_type\": \"\",\n        \"description\": \"\"\n      }\n    },\n    {\n      \"column\": \"profit\",\n      \"properties\": {\n        \"dtype\": \"number\",\n        \"std\": 272,\n        \"min\": -221,\n        \"max\": 2071,\n        \"num_unique_values\": 1634,\n        \"samples\": [\n          52,\n          316,\n          880\n        ],\n        \"semantic_type\": \"\",\n        \"description\": \"\"\n      }\n    },\n    {\n      \"column\": \"tenure\",\n      \"properties\": {\n        \"dtype\": \"number\",\n        \"std\": 8.453867404036219,\n        \"min\": 0.159999996423721,\n        \"max\": 41.1599998474121,\n        \"num_unique_values\": 491,\n        \"samples\": [\n          39.1599998474121,\n          19.25,\n          37.5800018310547\n        ],\n        \"semantic_type\": \"\",\n        \"description\": \"\"\n      }\n    },\n    {\n      \"column\": \"district\",\n      \"properties\": {\n        \"dtype\": \"number\",\n        \"std\": 47,\n        \"min\": 1100,\n        \"max\": 1300,\n        \"num_unique_values\": 3,\n        \"samples\": [\n          1200,\n          1100,\n          1300\n        ],\n        \"semantic_type\": \"\",\n        \"description\": \"\"\n      }\n    },\n    {\n      \"column\": \"online\",\n      \"properties\": {\n        \"dtype\": \"number\",\n        \"std\": 0,\n        \"min\": 0,\n        \"max\": 1,\n        \"num_unique_values\": 2,\n        \"samples\": [\n          1,\n          0\n        ],\n        \"semantic_type\": \"\",\n        \"description\": \"\"\n      }\n    },\n    {\n      \"column\": \"inc\",\n      \"properties\": {\n        \"dtype\": \"number\",\n        \"std\": 2.346881470781858,\n        \"min\": 1.0,\n        \"max\": 9.0,\n        \"num_unique_values\": 9,\n        \"samples\": [\n          2.0,\n          9.0\n        ],\n        \"semantic_type\": \"\",\n        \"description\": \"\"\n      }\n    },\n    {\n      \"column\": \"age\",\n      \"properties\": {\n        \"dtype\": \"number\",\n        \"std\": 1.6423162363479702,\n        \"min\": 1.0,\n        \"max\": 7.0,\n        \"num_unique_values\": 7,\n        \"samples\": [\n          5.0,\n          3.0\n        ],\n        \"semantic_type\": \"\",\n        \"description\": \"\"\n      }\n    }\n  ]\n}"
            }
          },
          "metadata": {},
          "execution_count": 112
        }
      ]
    },
    {
      "cell_type": "code",
      "source": [
        "# 데이터 컬럼 이름 확인\n",
        "df.columns"
      ],
      "metadata": {
        "colab": {
          "base_uri": "https://localhost:8080/"
        },
        "id": "oP3ucJ-90AYZ",
        "outputId": "274f0a40-95e2-40d3-d3ab-95dad0800ab1"
      },
      "execution_count": 113,
      "outputs": [
        {
          "output_type": "execute_result",
          "data": {
            "text/plain": [
              "Index(['id', 'profit', 'tenure', 'district', 'online', 'inc', 'age'], dtype='object')"
            ]
          },
          "metadata": {},
          "execution_count": 113
        }
      ]
    },
    {
      "cell_type": "code",
      "source": [
        "# 데이터 분표 요약\n",
        "df.describe()"
      ],
      "metadata": {
        "colab": {
          "base_uri": "https://localhost:8080/",
          "height": 300
        },
        "id": "SKso_7uazuuo",
        "outputId": "f561e9e8-12b3-4ff2-fbea-1362aeb4c4da"
      },
      "execution_count": 114,
      "outputs": [
        {
          "output_type": "execute_result",
          "data": {
            "text/plain": [
              "                 id        profit        tenure      district        online  \\\n",
              "count  31634.000000  31634.000000  31634.000000  31634.000000  31634.000000   \n",
              "mean   15817.500000    111.502687     10.162690   1203.186445      0.121831   \n",
              "std     9132.093544    272.839391      8.453867     47.906512      0.327096   \n",
              "min        1.000000   -221.000000      0.160000   1100.000000      0.000000   \n",
              "25%     7909.250000    -34.000000      3.750000   1200.000000      0.000000   \n",
              "50%    15817.500000      9.000000      7.410000   1200.000000      0.000000   \n",
              "75%    23725.750000    164.000000     14.750000   1200.000000      0.000000   \n",
              "max    31634.000000   2071.000000     41.160000   1300.000000      1.000000   \n",
              "\n",
              "                inc           age  \n",
              "count  23373.000000  23345.000000  \n",
              "mean       5.458777      4.046048  \n",
              "std        2.346881      1.642316  \n",
              "min        1.000000      1.000000  \n",
              "25%        4.000000      3.000000  \n",
              "50%        6.000000      4.000000  \n",
              "75%        7.000000      5.000000  \n",
              "max        9.000000      7.000000  "
            ],
            "text/html": [
              "\n",
              "  <div id=\"df-729e0006-60c8-414f-86b2-64b86b4aaff3\" class=\"colab-df-container\">\n",
              "    <div>\n",
              "<style scoped>\n",
              "    .dataframe tbody tr th:only-of-type {\n",
              "        vertical-align: middle;\n",
              "    }\n",
              "\n",
              "    .dataframe tbody tr th {\n",
              "        vertical-align: top;\n",
              "    }\n",
              "\n",
              "    .dataframe thead th {\n",
              "        text-align: right;\n",
              "    }\n",
              "</style>\n",
              "<table border=\"1\" class=\"dataframe\">\n",
              "  <thead>\n",
              "    <tr style=\"text-align: right;\">\n",
              "      <th></th>\n",
              "      <th>id</th>\n",
              "      <th>profit</th>\n",
              "      <th>tenure</th>\n",
              "      <th>district</th>\n",
              "      <th>online</th>\n",
              "      <th>inc</th>\n",
              "      <th>age</th>\n",
              "    </tr>\n",
              "  </thead>\n",
              "  <tbody>\n",
              "    <tr>\n",
              "      <th>count</th>\n",
              "      <td>31634.000000</td>\n",
              "      <td>31634.000000</td>\n",
              "      <td>31634.000000</td>\n",
              "      <td>31634.000000</td>\n",
              "      <td>31634.000000</td>\n",
              "      <td>23373.000000</td>\n",
              "      <td>23345.000000</td>\n",
              "    </tr>\n",
              "    <tr>\n",
              "      <th>mean</th>\n",
              "      <td>15817.500000</td>\n",
              "      <td>111.502687</td>\n",
              "      <td>10.162690</td>\n",
              "      <td>1203.186445</td>\n",
              "      <td>0.121831</td>\n",
              "      <td>5.458777</td>\n",
              "      <td>4.046048</td>\n",
              "    </tr>\n",
              "    <tr>\n",
              "      <th>std</th>\n",
              "      <td>9132.093544</td>\n",
              "      <td>272.839391</td>\n",
              "      <td>8.453867</td>\n",
              "      <td>47.906512</td>\n",
              "      <td>0.327096</td>\n",
              "      <td>2.346881</td>\n",
              "      <td>1.642316</td>\n",
              "    </tr>\n",
              "    <tr>\n",
              "      <th>min</th>\n",
              "      <td>1.000000</td>\n",
              "      <td>-221.000000</td>\n",
              "      <td>0.160000</td>\n",
              "      <td>1100.000000</td>\n",
              "      <td>0.000000</td>\n",
              "      <td>1.000000</td>\n",
              "      <td>1.000000</td>\n",
              "    </tr>\n",
              "    <tr>\n",
              "      <th>25%</th>\n",
              "      <td>7909.250000</td>\n",
              "      <td>-34.000000</td>\n",
              "      <td>3.750000</td>\n",
              "      <td>1200.000000</td>\n",
              "      <td>0.000000</td>\n",
              "      <td>4.000000</td>\n",
              "      <td>3.000000</td>\n",
              "    </tr>\n",
              "    <tr>\n",
              "      <th>50%</th>\n",
              "      <td>15817.500000</td>\n",
              "      <td>9.000000</td>\n",
              "      <td>7.410000</td>\n",
              "      <td>1200.000000</td>\n",
              "      <td>0.000000</td>\n",
              "      <td>6.000000</td>\n",
              "      <td>4.000000</td>\n",
              "    </tr>\n",
              "    <tr>\n",
              "      <th>75%</th>\n",
              "      <td>23725.750000</td>\n",
              "      <td>164.000000</td>\n",
              "      <td>14.750000</td>\n",
              "      <td>1200.000000</td>\n",
              "      <td>0.000000</td>\n",
              "      <td>7.000000</td>\n",
              "      <td>5.000000</td>\n",
              "    </tr>\n",
              "    <tr>\n",
              "      <th>max</th>\n",
              "      <td>31634.000000</td>\n",
              "      <td>2071.000000</td>\n",
              "      <td>41.160000</td>\n",
              "      <td>1300.000000</td>\n",
              "      <td>1.000000</td>\n",
              "      <td>9.000000</td>\n",
              "      <td>7.000000</td>\n",
              "    </tr>\n",
              "  </tbody>\n",
              "</table>\n",
              "</div>\n",
              "    <div class=\"colab-df-buttons\">\n",
              "\n",
              "  <div class=\"colab-df-container\">\n",
              "    <button class=\"colab-df-convert\" onclick=\"convertToInteractive('df-729e0006-60c8-414f-86b2-64b86b4aaff3')\"\n",
              "            title=\"Convert this dataframe to an interactive table.\"\n",
              "            style=\"display:none;\">\n",
              "\n",
              "  <svg xmlns=\"http://www.w3.org/2000/svg\" height=\"24px\" viewBox=\"0 -960 960 960\">\n",
              "    <path d=\"M120-120v-720h720v720H120Zm60-500h600v-160H180v160Zm220 220h160v-160H400v160Zm0 220h160v-160H400v160ZM180-400h160v-160H180v160Zm440 0h160v-160H620v160ZM180-180h160v-160H180v160Zm440 0h160v-160H620v160Z\"/>\n",
              "  </svg>\n",
              "    </button>\n",
              "\n",
              "  <style>\n",
              "    .colab-df-container {\n",
              "      display:flex;\n",
              "      gap: 12px;\n",
              "    }\n",
              "\n",
              "    .colab-df-convert {\n",
              "      background-color: #E8F0FE;\n",
              "      border: none;\n",
              "      border-radius: 50%;\n",
              "      cursor: pointer;\n",
              "      display: none;\n",
              "      fill: #1967D2;\n",
              "      height: 32px;\n",
              "      padding: 0 0 0 0;\n",
              "      width: 32px;\n",
              "    }\n",
              "\n",
              "    .colab-df-convert:hover {\n",
              "      background-color: #E2EBFA;\n",
              "      box-shadow: 0px 1px 2px rgba(60, 64, 67, 0.3), 0px 1px 3px 1px rgba(60, 64, 67, 0.15);\n",
              "      fill: #174EA6;\n",
              "    }\n",
              "\n",
              "    .colab-df-buttons div {\n",
              "      margin-bottom: 4px;\n",
              "    }\n",
              "\n",
              "    [theme=dark] .colab-df-convert {\n",
              "      background-color: #3B4455;\n",
              "      fill: #D2E3FC;\n",
              "    }\n",
              "\n",
              "    [theme=dark] .colab-df-convert:hover {\n",
              "      background-color: #434B5C;\n",
              "      box-shadow: 0px 1px 3px 1px rgba(0, 0, 0, 0.15);\n",
              "      filter: drop-shadow(0px 1px 2px rgba(0, 0, 0, 0.3));\n",
              "      fill: #FFFFFF;\n",
              "    }\n",
              "  </style>\n",
              "\n",
              "    <script>\n",
              "      const buttonEl =\n",
              "        document.querySelector('#df-729e0006-60c8-414f-86b2-64b86b4aaff3 button.colab-df-convert');\n",
              "      buttonEl.style.display =\n",
              "        google.colab.kernel.accessAllowed ? 'block' : 'none';\n",
              "\n",
              "      async function convertToInteractive(key) {\n",
              "        const element = document.querySelector('#df-729e0006-60c8-414f-86b2-64b86b4aaff3');\n",
              "        const dataTable =\n",
              "          await google.colab.kernel.invokeFunction('convertToInteractive',\n",
              "                                                    [key], {});\n",
              "        if (!dataTable) return;\n",
              "\n",
              "        const docLinkHtml = 'Like what you see? Visit the ' +\n",
              "          '<a target=\"_blank\" href=https://colab.research.google.com/notebooks/data_table.ipynb>data table notebook</a>'\n",
              "          + ' to learn more about interactive tables.';\n",
              "        element.innerHTML = '';\n",
              "        dataTable['output_type'] = 'display_data';\n",
              "        await google.colab.output.renderOutput(dataTable, element);\n",
              "        const docLink = document.createElement('div');\n",
              "        docLink.innerHTML = docLinkHtml;\n",
              "        element.appendChild(docLink);\n",
              "      }\n",
              "    </script>\n",
              "  </div>\n",
              "\n",
              "\n",
              "<div id=\"df-4ecfe242-abd6-46dd-be9d-0672e1cef5a4\">\n",
              "  <button class=\"colab-df-quickchart\" onclick=\"quickchart('df-4ecfe242-abd6-46dd-be9d-0672e1cef5a4')\"\n",
              "            title=\"Suggest charts\"\n",
              "            style=\"display:none;\">\n",
              "\n",
              "<svg xmlns=\"http://www.w3.org/2000/svg\" height=\"24px\"viewBox=\"0 0 24 24\"\n",
              "     width=\"24px\">\n",
              "    <g>\n",
              "        <path d=\"M19 3H5c-1.1 0-2 .9-2 2v14c0 1.1.9 2 2 2h14c1.1 0 2-.9 2-2V5c0-1.1-.9-2-2-2zM9 17H7v-7h2v7zm4 0h-2V7h2v10zm4 0h-2v-4h2v4z\"/>\n",
              "    </g>\n",
              "</svg>\n",
              "  </button>\n",
              "\n",
              "<style>\n",
              "  .colab-df-quickchart {\n",
              "      --bg-color: #E8F0FE;\n",
              "      --fill-color: #1967D2;\n",
              "      --hover-bg-color: #E2EBFA;\n",
              "      --hover-fill-color: #174EA6;\n",
              "      --disabled-fill-color: #AAA;\n",
              "      --disabled-bg-color: #DDD;\n",
              "  }\n",
              "\n",
              "  [theme=dark] .colab-df-quickchart {\n",
              "      --bg-color: #3B4455;\n",
              "      --fill-color: #D2E3FC;\n",
              "      --hover-bg-color: #434B5C;\n",
              "      --hover-fill-color: #FFFFFF;\n",
              "      --disabled-bg-color: #3B4455;\n",
              "      --disabled-fill-color: #666;\n",
              "  }\n",
              "\n",
              "  .colab-df-quickchart {\n",
              "    background-color: var(--bg-color);\n",
              "    border: none;\n",
              "    border-radius: 50%;\n",
              "    cursor: pointer;\n",
              "    display: none;\n",
              "    fill: var(--fill-color);\n",
              "    height: 32px;\n",
              "    padding: 0;\n",
              "    width: 32px;\n",
              "  }\n",
              "\n",
              "  .colab-df-quickchart:hover {\n",
              "    background-color: var(--hover-bg-color);\n",
              "    box-shadow: 0 1px 2px rgba(60, 64, 67, 0.3), 0 1px 3px 1px rgba(60, 64, 67, 0.15);\n",
              "    fill: var(--button-hover-fill-color);\n",
              "  }\n",
              "\n",
              "  .colab-df-quickchart-complete:disabled,\n",
              "  .colab-df-quickchart-complete:disabled:hover {\n",
              "    background-color: var(--disabled-bg-color);\n",
              "    fill: var(--disabled-fill-color);\n",
              "    box-shadow: none;\n",
              "  }\n",
              "\n",
              "  .colab-df-spinner {\n",
              "    border: 2px solid var(--fill-color);\n",
              "    border-color: transparent;\n",
              "    border-bottom-color: var(--fill-color);\n",
              "    animation:\n",
              "      spin 1s steps(1) infinite;\n",
              "  }\n",
              "\n",
              "  @keyframes spin {\n",
              "    0% {\n",
              "      border-color: transparent;\n",
              "      border-bottom-color: var(--fill-color);\n",
              "      border-left-color: var(--fill-color);\n",
              "    }\n",
              "    20% {\n",
              "      border-color: transparent;\n",
              "      border-left-color: var(--fill-color);\n",
              "      border-top-color: var(--fill-color);\n",
              "    }\n",
              "    30% {\n",
              "      border-color: transparent;\n",
              "      border-left-color: var(--fill-color);\n",
              "      border-top-color: var(--fill-color);\n",
              "      border-right-color: var(--fill-color);\n",
              "    }\n",
              "    40% {\n",
              "      border-color: transparent;\n",
              "      border-right-color: var(--fill-color);\n",
              "      border-top-color: var(--fill-color);\n",
              "    }\n",
              "    60% {\n",
              "      border-color: transparent;\n",
              "      border-right-color: var(--fill-color);\n",
              "    }\n",
              "    80% {\n",
              "      border-color: transparent;\n",
              "      border-right-color: var(--fill-color);\n",
              "      border-bottom-color: var(--fill-color);\n",
              "    }\n",
              "    90% {\n",
              "      border-color: transparent;\n",
              "      border-bottom-color: var(--fill-color);\n",
              "    }\n",
              "  }\n",
              "</style>\n",
              "\n",
              "  <script>\n",
              "    async function quickchart(key) {\n",
              "      const quickchartButtonEl =\n",
              "        document.querySelector('#' + key + ' button');\n",
              "      quickchartButtonEl.disabled = true;  // To prevent multiple clicks.\n",
              "      quickchartButtonEl.classList.add('colab-df-spinner');\n",
              "      try {\n",
              "        const charts = await google.colab.kernel.invokeFunction(\n",
              "            'suggestCharts', [key], {});\n",
              "      } catch (error) {\n",
              "        console.error('Error during call to suggestCharts:', error);\n",
              "      }\n",
              "      quickchartButtonEl.classList.remove('colab-df-spinner');\n",
              "      quickchartButtonEl.classList.add('colab-df-quickchart-complete');\n",
              "    }\n",
              "    (() => {\n",
              "      let quickchartButtonEl =\n",
              "        document.querySelector('#df-4ecfe242-abd6-46dd-be9d-0672e1cef5a4 button');\n",
              "      quickchartButtonEl.style.display =\n",
              "        google.colab.kernel.accessAllowed ? 'block' : 'none';\n",
              "    })();\n",
              "  </script>\n",
              "</div>\n",
              "\n",
              "    </div>\n",
              "  </div>\n"
            ],
            "application/vnd.google.colaboratory.intrinsic+json": {
              "type": "dataframe",
              "summary": "{\n  \"name\": \"df\",\n  \"rows\": 8,\n  \"fields\": [\n    {\n      \"column\": \"id\",\n      \"properties\": {\n        \"dtype\": \"number\",\n        \"std\": 11400.741853619831,\n        \"min\": 1.0,\n        \"max\": 31634.0,\n        \"num_unique_values\": 6,\n        \"samples\": [\n          31634.0,\n          15817.5,\n          23725.75\n        ],\n        \"semantic_type\": \"\",\n        \"description\": \"\"\n      }\n    },\n    {\n      \"column\": \"profit\",\n      \"properties\": {\n        \"dtype\": \"number\",\n        \"std\": 11087.96278323876,\n        \"min\": -221.0,\n        \"max\": 31634.0,\n        \"num_unique_values\": 8,\n        \"samples\": [\n          111.50268698236076,\n          9.0,\n          31634.0\n        ],\n        \"semantic_type\": \"\",\n        \"description\": \"\"\n      }\n    },\n    {\n      \"column\": \"tenure\",\n      \"properties\": {\n        \"dtype\": \"number\",\n        \"std\": 11179.979096890956,\n        \"min\": 0.159999996423721,\n        \"max\": 31634.0,\n        \"num_unique_values\": 8,\n        \"samples\": [\n          10.16269041560725,\n          7.40999984741211,\n          31634.0\n        ],\n        \"semantic_type\": \"\",\n        \"description\": \"\"\n      }\n    },\n    {\n      \"column\": \"district\",\n      \"properties\": {\n        \"dtype\": \"number\",\n        \"std\": 10825.720707606337,\n        \"min\": 47.90651174982856,\n        \"max\": 31634.0,\n        \"num_unique_values\": 6,\n        \"samples\": [\n          31634.0,\n          1203.186444964279,\n          1300.0\n        ],\n        \"semantic_type\": \"\",\n        \"description\": \"\"\n      }\n    },\n    {\n      \"column\": \"online\",\n      \"properties\": {\n        \"dtype\": \"number\",\n        \"std\": 11184.234781434167,\n        \"min\": 0.0,\n        \"max\": 31634.0,\n        \"num_unique_values\": 5,\n        \"samples\": [\n          0.12183094139217297,\n          1.0,\n          0.3270956210056295\n        ],\n        \"semantic_type\": \"\",\n        \"description\": \"\"\n      }\n    },\n    {\n      \"column\": \"inc\",\n      \"properties\": {\n        \"dtype\": \"number\",\n        \"std\": 8261.845838264271,\n        \"min\": 1.0,\n        \"max\": 23373.0,\n        \"num_unique_values\": 8,\n        \"samples\": [\n          5.458777221580456,\n          6.0,\n          23373.0\n        ],\n        \"semantic_type\": \"\",\n        \"description\": \"\"\n      }\n    },\n    {\n      \"column\": \"age\",\n      \"properties\": {\n        \"dtype\": \"number\",\n        \"std\": 8252.406659688226,\n        \"min\": 1.0,\n        \"max\": 23345.0,\n        \"num_unique_values\": 8,\n        \"samples\": [\n          4.046048404369244,\n          4.0,\n          23345.0\n        ],\n        \"semantic_type\": \"\",\n        \"description\": \"\"\n      }\n    }\n  ]\n}"
            }
          },
          "metadata": {},
          "execution_count": 114
        }
      ]
    },
    {
      "cell_type": "markdown",
      "source": [
        "# **Q1. Plot a Histogram of Profitability**\n",
        "using 30 bins (number of bins, not the size of each bin). Describe the distribution of this variable.\n"
      ],
      "metadata": {
        "id": "MIXUNhEdMrYE"
      }
    },
    {
      "cell_type": "code",
      "source": [
        "# 수익성 히스토그램 그리기\n",
        "plt.figure(figsize=(10,6))\n",
        "plt.hist(df['profit'], bins=30, edgecolor='black')\n",
        "plt.title('Distribution of Profitability')\n",
        "plt.xlabel('Profitability')\n",
        "plt.ylabel('Frequency')\n",
        "plt.grid(True)\n",
        "plt.show()\n"
      ],
      "metadata": {
        "colab": {
          "base_uri": "https://localhost:8080/",
          "height": 556
        },
        "id": "qVfkkClFMwA9",
        "outputId": "62f6bd67-695b-4236-84d3-94b979be720d"
      },
      "execution_count": 115,
      "outputs": [
        {
          "output_type": "display_data",
          "data": {
            "text/plain": [
              "<Figure size 1000x600 with 1 Axes>"
            ],
            "image/png": "[encoded data removed]"
          },
          "metadata": {}
        }
      ]
    },
    {
      "cell_type": "markdown",
      "source": [
        "해석 : 위 히스토그램이 왼쪽으로 치우쳐 있는 모습을 통해 수익성이 낮은 고객들이 대부분이라는 것을 알 수 있다."
      ],
      "metadata": {
        "id": "ZukM9_pHOKFX"
      }
    },
    {
      "cell_type": "markdown",
      "source": [
        "# **Q2. What percentage of customers are “online” customers?**\n"
      ],
      "metadata": {
        "id": "ewlG71hfNyga"
      }
    },
    {
      "cell_type": "code",
      "source": [
        "# 온라인 고객 비율 계산\n",
        "online_count = df['online'].sum()  # 즉, 온라인 고객 수(=1)세기\n",
        "total_customers = len(df)  # 전체 고객 수\n",
        "online_percentage = (online_count / total_customers) * 100  # 온라인 고객 수/ 전체 고객 수 비율 계산\n",
        "print(f\"온라인 고객 비중: {online_percentage:.2f}%\")\n"
      ],
      "metadata": {
        "colab": {
          "base_uri": "https://localhost:8080/"
        },
        "id": "lhszAAOAQuuA",
        "outputId": "d95c59d6-2359-4099-f456-d49bfdfd3ba1"
      },
      "execution_count": 116,
      "outputs": [
        {
          "output_type": "stream",
          "name": "stdout",
          "text": [
            "온라인 고객 비중: 12.18%\n"
          ]
        }
      ]
    },
    {
      "cell_type": "markdown",
      "source": [
        "해석 : 이 은행은 온라인 고객 채택 비중이 비교적 낮다는 것을 알 수 있다."
      ],
      "metadata": {
        "id": "Qd6B3stoSziT"
      }
    },
    {
      "cell_type": "markdown",
      "source": [
        "# **# Q3.**"
      ],
      "metadata": {
        "id": "Z47_x7GGVT41"
      }
    },
    {
      "cell_type": "markdown",
      "source": [
        "### Q3-1. Compare the difference of average profits between online and offline customers."
      ],
      "metadata": {
        "id": "GvRNuWtWSiwF"
      }
    },
    {
      "cell_type": "code",
      "source": [
        "# 온라인과 오프라인 고객의 평균 수익성 비교\n",
        "online_profit = df['profit'][df['online'] == 1] #온라인 고객 수익성 변수 지정\n",
        "offline_profit = df['profit'][df['online'] == 0] #오프라인 고객 수익성 변수 지정\n",
        "\n",
        "# 평균 계산\n",
        "avg_online_profit = online_profit.mean()\n",
        "avg_offline_profit = offline_profit.mean()\n",
        "\n",
        "# 결과 출력\n",
        "print(f\"온라인 고객의 평균 수익성: {avg_online_profit:.2f}\")\n",
        "print(f\"오프라인 고객의 평균 수익성: {avg_offline_profit:.2f}\")"
      ],
      "metadata": {
        "colab": {
          "base_uri": "https://localhost:8080/"
        },
        "id": "MTER0_EuMxRt",
        "outputId": "433bdaa2-7c2f-4511-d2f6-8a0b1aeb8c55"
      },
      "execution_count": 117,
      "outputs": [
        {
          "output_type": "stream",
          "name": "stdout",
          "text": [
            "온라인 고객의 평균 수익성: 116.67\n",
            "오프라인 고객의 평균 수익성: 110.79\n"
          ]
        }
      ]
    },
    {
      "cell_type": "markdown",
      "source": [
        "### Q3-2. Then, run an independent-samples t-test for hypothesis testing (about population)."
      ],
      "metadata": {
        "id": "KXZ9_Cm5UFQ3"
      }
    },
    {
      "cell_type": "code",
      "source": [
        "# 가설 수립 (H0, H1)\n",
        "print(\"H0: 온라인 고객과 오프라인 고객의 평균 수익성 차이는 없다. (μ_online - μ_offline = 0)\")\n",
        "print(\"H1: 온라인 고객과 오프라인 고객의 평균 수익성 차이가 있다. (μ_online - μ_offline ≠ 0)\")\n",
        "\n",
        "# 독립 표본 t-검정 수행\n",
        "t_statistic, p_value = stats.ttest_ind(online_profit, offline_profit, equal_var=False)\n",
        "\n",
        "# 결과 출력\n",
        "print(f\"T-통계량: {t_statistic:.4f}\")\n",
        "print(f\"P-값: {p_value:.4f}\")"
      ],
      "metadata": {
        "colab": {
          "base_uri": "https://localhost:8080/"
        },
        "id": "fLApwvl_UHHD",
        "outputId": "5a021567-8e68-47ef-f2cb-ca018888b9b2"
      },
      "execution_count": 118,
      "outputs": [
        {
          "output_type": "stream",
          "name": "stdout",
          "text": [
            "H0: 온라인 고객과 오프라인 고객의 평균 수익성 차이는 없다. (μ_online - μ_offline = 0)\n",
            "H1: 온라인 고객과 오프라인 고객의 평균 수익성 차이가 있다. (μ_online - μ_offline ≠ 0)\n",
            "T-통계량: 1.2124\n",
            "P-값: 0.2254\n"
          ]
        }
      ]
    },
    {
      "cell_type": "markdown",
      "source": [
        "### Q3-3. Interpret the outcome."
      ],
      "metadata": {
        "id": "BlIT8XSCXYw2"
      }
    },
    {
      "cell_type": "code",
      "source": [
        "# 결과 해석\n",
        "alpha = 0.05  # 유의 수준 설정\n",
        "if p_value < alpha:\n",
        "    print(f\"p-value ({p_value:.4f})가 유의수준 ({alpha})보다 작으므로, H0 기각.\")\n",
        "    print(\"결론: 온라인 고객과 오프라인 고객의 평균 수익성에 유의미한 차이가 있습니다.\")\n",
        "else:\n",
        "    print(f\"p-value ({p_value:.4f})가 유의수준 ({alpha})보다 크므로, H0 기각 실패.\")\n",
        "    print(\"결론: 온라인 고객과 오프라인 고객의 평균 수익성 차이는 통계적으로 유의미하지 않다.\\n즉, 온라인 고객과 오프라인 고객의 평균 수익성 차이가 없다.\")"
      ],
      "metadata": {
        "colab": {
          "base_uri": "https://localhost:8080/"
        },
        "id": "vTP3h03aXcsn",
        "outputId": "38121617-203c-4dc0-86e6-cf61e9d30510"
      },
      "execution_count": 119,
      "outputs": [
        {
          "output_type": "stream",
          "name": "stdout",
          "text": [
            "p-value (0.2254)가 유의수준 (0.05)보다 크므로, H0 기각 실패.\n",
            "결론: 온라인 고객과 오프라인 고객의 평균 수익성 차이는 통계적으로 유의미하지 않다.\n",
            "즉, 온라인 고객과 오프라인 고객의 평균 수익성 차이가 없다.\n"
          ]
        }
      ]
    },
    {
      "cell_type": "markdown",
      "source": [
        "# **Q4. The manager believes the profitability of a customer should be related to tenure.**"
      ],
      "metadata": {
        "id": "O5rJ1mJ9YScd"
      }
    },
    {
      "cell_type": "markdown",
      "source": [
        "### Q4-1. Run a linear regression analysis with two independent variables: online and tenure."
      ],
      "metadata": {
        "id": "E3r4XM1UYZ0E"
      }
    },
    {
      "cell_type": "code",
      "source": [
        "## 선형 회귀 분석 : 온라인과 거래 기간이 수익성에 미치는 영향\n",
        "# 종속변수: profit 독립변수:online, tenure\n",
        "model = sm.OLS.from_formula('profit ~ online + tenure', data=df).fit()"
      ],
      "metadata": {
        "id": "RU13o9uwcC4a"
      },
      "execution_count": 120,
      "outputs": []
    },
    {
      "cell_type": "markdown",
      "source": [
        "### Q4-2. Show and interpret the result."
      ],
      "metadata": {
        "id": "GNsALgYWYlNg"
      }
    },
    {
      "cell_type": "code",
      "source": [
        "# 모델 결과 출력\n",
        "print(model.summary())"
      ],
      "metadata": {
        "colab": {
          "base_uri": "https://localhost:8080/"
        },
        "id": "BCf_-SzgdOzU",
        "outputId": "7f3344be-48d8-4d7b-ec87-b7086a402e8f"
      },
      "execution_count": 121,
      "outputs": [
        {
          "output_type": "stream",
          "name": "stdout",
          "text": [
            "                            OLS Regression Results                            \n",
            "==============================================================================\n",
            "Dep. Variable:                 profit   R-squared:                       0.037\n",
            "Model:                            OLS   Adj. R-squared:                  0.037\n",
            "Method:                 Least Squares   F-statistic:                     606.4\n",
            "Date:                Mon, 21 Oct 2024   Prob (F-statistic):          3.84e-259\n",
            "Time:                        16:09:14   Log-Likelihood:            -2.2172e+05\n",
            "No. Observations:               31634   AIC:                         4.435e+05\n",
            "Df Residuals:                   31631   BIC:                         4.435e+05\n",
            "Df Model:                           2                                         \n",
            "Covariance Type:            nonrobust                                         \n",
            "==============================================================================\n",
            "                 coef    std err          t      P>|t|      [0.025      0.975]\n",
            "------------------------------------------------------------------------------\n",
            "Intercept     46.3636      2.451     18.916      0.000      41.559      51.168\n",
            "online        16.5529      4.613      3.588      0.000       7.512      25.594\n",
            "tenure         6.2112      0.178     34.801      0.000       5.861       6.561\n",
            "==============================================================================\n",
            "Omnibus:                    18187.182   Durbin-Watson:                   0.071\n",
            "Prob(Omnibus):                  0.000   Jarque-Bera (JB):           167986.266\n",
            "Skew:                           2.670   Prob(JB):                         0.00\n",
            "Kurtosis:                      12.947   Cond. No.                         41.2\n",
            "==============================================================================\n",
            "\n",
            "Notes:\n",
            "[1] Standard Errors assume that the covariance matrix of the errors is correctly specified.\n"
          ]
        }
      ]
    },
    {
      "cell_type": "code",
      "source": [
        "# 회귀 분석 결과 해석\n",
        "# R-squared, F-statistic, Coefficients, P-values 주요 지표 정리\n",
        "print(\"=== 회귀 분석 요약 ===\")\n",
        "print(f\"R-squared: {model.rsquared:.4f}\")\n",
        "print(f\"F-statistic: {model.fvalue:.4f}\")\n",
        "print(f\"Prob (F-statistic): {model.f_pvalue:.4e}\")\n",
        "print(\"\\n=== 회귀 계수(Coefficients) ===\")\n",
        "print(model.params)"
      ],
      "metadata": {
        "colab": {
          "base_uri": "https://localhost:8080/"
        },
        "id": "NO1sbIw0nf9F",
        "outputId": "abf72ded-f34e-49a3-da97-f5bc01a81846"
      },
      "execution_count": 122,
      "outputs": [
        {
          "output_type": "stream",
          "name": "stdout",
          "text": [
            "=== 회귀 분석 요약 ===\n",
            "R-squared: 0.0369\n",
            "F-statistic: 606.3590\n",
            "Prob (F-statistic): 3.8402e-259\n",
            "\n",
            "=== 회귀 계수(Coefficients) ===\n",
            "Intercept    46.363642\n",
            "online       16.552865\n",
            "tenure        6.211189\n",
            "dtype: float64\n"
          ]
        }
      ]
    },
    {
      "cell_type": "markdown",
      "source": [
        "##해석\n",
        "\n",
        "* R-squared - 0.0369 \\\n",
        ": 두 독립변수 (온라인 여부, 거래 기간)은 종속변수 (수익성)의 변동을 약 3.7% 설명할 수 있다.\n",
        "\n",
        "\n",
        "*   F-statistic - 606.3590 \\\n",
        ": F-statistic값이 크고, p-value가 0에 가깝기 때문에, 본 회귀 모델은 통계적으로 유의미하다. 즉, 독립 변수(온라인 여부, 거래 기간)은 종속 변수(수익성)을 설명하는 데 기여하고 있다.\n",
        "\n",
        "\n",
        "*   Coefficients \\\n",
        ": online 변수의 계수가 양수이므로, 온라인 고객일 때 수익성이 오프라인 고객보다 더 높고, tenure 변수의 계수도 양수이므로  거래 기간이 길어질수록 수익성이 높아진다는 것을 알 수 있다.\n",
        "\n",
        "* P-value \\\n",
        ": 각 독립변수의 p-value가 0.05보다 작기 때문에 해당 변수를 통한 회귀 모델이 통계적으로 유의미하다.\n",
        "\n",
        "\\\n",
        "## 결론\n",
        "\n",
        "*   온라인 고객은 오프라인 고객에 비해 더 높은 수익성을 보일 가능성이 크다.\n",
        "* 거래 기간이 길수록 수익성이 증가하므로, 장기 고객을 유지하는 것이 수익성 증대에 긍정적인 영향을 미칠 수 있다.\n",
        "* 모델의 R-squared 값이 낮은 편이므로, 설명력이 부족할 수 있으므로 다른 변수를 추가해 모델 개선을 고려할 수 있다."
      ],
      "metadata": {
        "id": "aOAQKJmsoCp9"
      }
    },
    {
      "cell_type": "markdown",
      "source": [
        "# **Q5.**"
      ],
      "metadata": {
        "id": "9pDVmupQwvyG"
      }
    },
    {
      "cell_type": "markdown",
      "source": [
        "### Convert district variable to a factor variable."
      ],
      "metadata": {
        "id": "v5ZAFihtt05v"
      }
    },
    {
      "cell_type": "code",
      "source": [
        "# district 변수를 범주형 변수로 변경\n",
        "df['district'] = df['district'].astype('category')\n",
        "\n",
        "# district 변수의 고유값 확인\n",
        "print(df['district'].unique())\n"
      ],
      "metadata": {
        "colab": {
          "base_uri": "https://localhost:8080/"
        },
        "id": "YrczwTZvRryu",
        "outputId": "aacbbd77-be12-4850-f67a-e2f412b84d3d"
      },
      "execution_count": 123,
      "outputs": [
        {
          "output_type": "stream",
          "name": "stdout",
          "text": [
            "[1200, 1100, 1300]\n",
            "Categories (3, int64): [1100, 1200, 1300]\n"
          ]
        }
      ]
    },
    {
      "cell_type": "markdown",
      "source": [
        "### Then, create three dummy variables to represent district variable, which has 3 categories. (You do not need to change the values of this variable. Just remember that different values represent different districts.)"
      ],
      "metadata": {
        "id": "Q_RJelgtSWu1"
      }
    },
    {
      "cell_type": "code",
      "source": [
        "# district 변수를 더미 변수로 변환 (세 개의 더미 변수 모두 생성)\n",
        "district_dummies = pd.get_dummies(df['district'], drop_first=False)\n",
        "\n",
        "# 더미 변수 확인\n",
        "print(district_dummies.head())"
      ],
      "metadata": {
        "colab": {
          "base_uri": "https://localhost:8080/"
        },
        "id": "DdCgh-uJRzpy",
        "outputId": "c942a0fc-570b-4b24-c94c-18ec2b75870b"
      },
      "execution_count": 124,
      "outputs": [
        {
          "output_type": "stream",
          "name": "stdout",
          "text": [
            "    1100  1200   1300\n",
            "0  False  True  False\n",
            "1  False  True  False\n",
            "2  False  True  False\n",
            "3  False  True  False\n",
            "4  False  True  False\n"
          ]
        }
      ]
    },
    {
      "cell_type": "markdown",
      "source": [
        "### Finally, include two of them in a new regression analysis with four independent variables: Online, Tenure, and two dummy variables that represent “District” variable."
      ],
      "metadata": {
        "id": "lPe5unwySfZo"
      }
    },
    {
      "cell_type": "code",
      "source": [
        "# 기존 데이터프레임 df와 더미 변수를 결합하여 새로운 데이터프레임 생성\n",
        "df_with_dummies = pd.concat([df, district_dummies], axis=1)\n",
        "\n",
        "# 회귀 분석에 사용할 두 개의 더미 변수 선택 (1200, 1300이 기준 변수를 제외한 두 변수라고 가정)\n",
        "X = pd.concat([df[['online', 'tenure']], district_dummies[[1200, 1300]]], axis=1)\n",
        "y = df['profit']  # 종속 변수 (수익성)\n",
        "\n",
        "# 데이터 확인\n",
        "print(X.head())  # 독립 변수 확인\n",
        "print(y.head())  # 종속 변수 확인\n"
      ],
      "metadata": {
        "colab": {
          "base_uri": "https://localhost:8080/"
        },
        "id": "yqDsUiNpSiwp",
        "outputId": "aa3231a4-18dc-4cac-bbfa-3bc0482e4f59"
      },
      "execution_count": 125,
      "outputs": [
        {
          "output_type": "stream",
          "name": "stdout",
          "text": [
            "   online  tenure  1200   1300\n",
            "0       0   23.75  True  False\n",
            "1       0    2.75  True  False\n",
            "2       0    1.25  True  False\n",
            "3       0   21.25  True  False\n",
            "4       0   21.16  True  False\n",
            "0    2071\n",
            "1    2063\n",
            "2    2062\n",
            "3    2062\n",
            "4    2061\n",
            "Name: profit, dtype: int64\n"
          ]
        }
      ]
    },
    {
      "cell_type": "markdown",
      "source": [
        "### Show and interpret the results."
      ],
      "metadata": {
        "id": "xsBIg20dj5pb"
      }
    },
    {
      "cell_type": "code",
      "source": [
        "# True/False 값을 1/0으로 변환 (더미 변수에 대해)\n",
        "X[1200] = X[1200].astype(int)\n",
        "X[1300] = X[1300].astype(int)\n",
        "\n",
        "# 절편 추가\n",
        "X = sm.add_constant(X)\n",
        "\n",
        "# OLS 회귀 분석 수행\n",
        "model = sm.OLS(y, X).fit()\n",
        "\n",
        "# 회귀 분석 결과 출력\n",
        "print(model.summary())\n"
      ],
      "metadata": {
        "colab": {
          "base_uri": "https://localhost:8080/"
        },
        "id": "nIXgjYOcTwST",
        "outputId": "8f1ca2c4-69f2-42b0-fc41-7efc8ded7322"
      },
      "execution_count": 126,
      "outputs": [
        {
          "output_type": "stream",
          "name": "stdout",
          "text": [
            "                            OLS Regression Results                            \n",
            "==============================================================================\n",
            "Dep. Variable:                 profit   R-squared:                       0.039\n",
            "Model:                            OLS   Adj. R-squared:                  0.039\n",
            "Method:                 Least Squares   F-statistic:                     322.7\n",
            "Date:                Mon, 21 Oct 2024   Prob (F-statistic):          1.10e-272\n",
            "Time:                        16:09:51   Log-Likelihood:            -2.2168e+05\n",
            "No. Observations:               31634   AIC:                         4.434e+05\n",
            "Df Residuals:                   31629   BIC:                         4.434e+05\n",
            "Df Model:                           4                                         \n",
            "Covariance Type:            nonrobust                                         \n",
            "==============================================================================\n",
            "                 coef    std err          t      P>|t|      [0.025      0.975]\n",
            "------------------------------------------------------------------------------\n",
            "const         15.9632      5.167      3.090      0.002       5.837      26.090\n",
            "online        14.2952      4.615      3.098      0.002       5.250      23.340\n",
            "tenure         6.2448      0.178     35.020      0.000       5.895       6.594\n",
            "1200          37.3103      5.077      7.349      0.000      27.359      47.261\n",
            "1300          12.3790      6.326      1.957      0.050      -0.019      24.777\n",
            "==============================================================================\n",
            "Omnibus:                    18199.887   Durbin-Watson:                   0.075\n",
            "Prob(Omnibus):                  0.000   Jarque-Bera (JB):           168463.450\n",
            "Skew:                           2.671   Prob(JB):                         0.00\n",
            "Kurtosis:                      12.963   Cond. No.                         77.5\n",
            "==============================================================================\n",
            "\n",
            "Notes:\n",
            "[1] Standard Errors assume that the covariance matrix of the errors is correctly specified.\n"
          ]
        }
      ]
    },
    {
      "cell_type": "code",
      "source": [
        "# 회귀 분석 주요 결과 요약\n",
        "print(\"=== 회귀 분석 요약 ===\")\n",
        "print(f\"R-squared: {model.rsquared:.4f}\")\n",
        "print(f\"Adj. R-squared: {model.rsquared_adj:.4f}\")\n",
        "print(f\"F-statistic: {model.fvalue:.4f}\")\n",
        "print(f\"Prob (F-statistic): {model.f_pvalue:.4e}\")\n",
        "\n",
        "print(\"\\n=== 회귀 계수(Coefficients) ===\")\n",
        "print(model.params)\n",
        "\n",
        "# 각 변수의 p-값과 유의미성 여부\n",
        "print(\"\\n=== 각 변수의 p-값 ===\")\n",
        "for variable, pval in model.pvalues.items():\n",
        "    significance = \"유의미함\" if pval < 0.05 else \"유의미하지 않음\"\n",
        "    print(f\"{variable}: p-값 = {pval:.4f} ({significance})\")\n"
      ],
      "metadata": {
        "colab": {
          "base_uri": "https://localhost:8080/"
        },
        "id": "-nIXLwbU8Y7m",
        "outputId": "e7609c67-60c5-45fe-daec-e44170cbd532"
      },
      "execution_count": 127,
      "outputs": [
        {
          "output_type": "stream",
          "name": "stdout",
          "text": [
            "=== 회귀 분석 요약 ===\n",
            "R-squared: 0.0392\n",
            "Adj. R-squared: 0.0391\n",
            "F-statistic: 322.7313\n",
            "Prob (F-statistic): 1.1012e-272\n",
            "\n",
            "=== 회귀 계수(Coefficients) ===\n",
            "const     15.963222\n",
            "online    14.295184\n",
            "tenure     6.244809\n",
            "1200      37.310274\n",
            "1300      12.379022\n",
            "dtype: float64\n",
            "\n",
            "=== 각 변수의 p-값 ===\n",
            "const: p-값 = 0.0020 (유의미함)\n",
            "online: p-값 = 0.0020 (유의미함)\n",
            "tenure: p-값 = 0.0000 (유의미함)\n",
            "1200: p-값 = 0.0000 (유의미함)\n",
            "1300: p-값 = 0.0504 (유의미하지 않음)\n"
          ]
        }
      ]
    },
    {
      "cell_type": "markdown",
      "source": [
        "\n",
        "##모델 성능 평가\n",
        "- R-squared :0.0392\\\n",
        "본 모델은 종속변수인 수익성의 변동에 대해 약 3.92%의 설명력을 가진다.\n",
        "- F-statistic : 322.7313 이고, Prob (F-statistic) 값이 1.10e-272로 매우 낮다.\\\n",
        "즉, 본 모델이 통계적으로 유의미하다.\n",
        "\n",
        "##해석\n",
        "\n",
        "1. 온라인 고객은 오프라인 고객보다 평균 약 14배 더 높은 수익성을 보인다. (계수: 14.2952, p-값: 0.002)\n",
        "2. 거래 기간이 길어질수록 수익성이 유의미하게 증가한다.(계수: 6.2448, p-값: 0.000)\n",
        "3. 지역 1200에 속한 고객들은 높은 수익성을 보인다.(계수: 37.3103, p-값: 0.000)\n",
        "4. 지역 1300은 통계적으로 유의미하지 않아, 해당 지역의 수익성에 대한 확실한 결론을 내리기 어렵다. (계수: 12.3790, p-값: 0.0504)"
      ],
      "metadata": {
        "id": "dNka1f6fvICE"
      }
    },
    {
      "cell_type": "code",
      "source": [
        "# 만약, 문제 조건에서 범주형 변수로 변환하고 더미 변수를 수동 생성하라는 과정 조건이 없다면\n",
        "# C(district) 함수로 district 변수를 더미 변수로 자동 변환하는 방식으로, 회귀 분석을 효율적으로 수행할 수 있다.\n",
        "model2 = sm.OLS.from_formula('profit ~ online + tenure + C(district)', data=df).fit()\n",
        "\n",
        "# 모델2 결과 출력\n",
        "print(model2.summary())\n"
      ],
      "metadata": {
        "colab": {
          "base_uri": "https://localhost:8080/"
        },
        "id": "v_3ANuZ0zGKb",
        "outputId": "75a89fe4-20b9-4024-f208-8c9ea534b6f7"
      },
      "execution_count": 128,
      "outputs": [
        {
          "output_type": "stream",
          "name": "stdout",
          "text": [
            "                            OLS Regression Results                            \n",
            "==============================================================================\n",
            "Dep. Variable:                 profit   R-squared:                       0.039\n",
            "Model:                            OLS   Adj. R-squared:                  0.039\n",
            "Method:                 Least Squares   F-statistic:                     322.7\n",
            "Date:                Mon, 21 Oct 2024   Prob (F-statistic):          1.10e-272\n",
            "Time:                        16:10:02   Log-Likelihood:            -2.2168e+05\n",
            "No. Observations:               31634   AIC:                         4.434e+05\n",
            "Df Residuals:                   31629   BIC:                         4.434e+05\n",
            "Df Model:                           4                                         \n",
            "Covariance Type:            nonrobust                                         \n",
            "=======================================================================================\n",
            "                          coef    std err          t      P>|t|      [0.025      0.975]\n",
            "---------------------------------------------------------------------------------------\n",
            "Intercept              15.9632      5.167      3.090      0.002       5.837      26.090\n",
            "C(district)[T.1200]    37.3103      5.077      7.349      0.000      27.359      47.261\n",
            "C(district)[T.1300]    12.3790      6.326      1.957      0.050      -0.019      24.777\n",
            "online                 14.2952      4.615      3.098      0.002       5.250      23.340\n",
            "tenure                  6.2448      0.178     35.020      0.000       5.895       6.594\n",
            "==============================================================================\n",
            "Omnibus:                    18199.887   Durbin-Watson:                   0.075\n",
            "Prob(Omnibus):                  0.000   Jarque-Bera (JB):           168463.450\n",
            "Skew:                           2.671   Prob(JB):                         0.00\n",
            "Kurtosis:                      12.963   Cond. No.                         77.5\n",
            "==============================================================================\n",
            "\n",
            "Notes:\n",
            "[1] Standard Errors assume that the covariance matrix of the errors is correctly specified.\n"
          ]
        }
      ]
    },
    {
      "cell_type": "markdown",
      "source": [
        "#**Q6. Based on the regression results, what are some characteristics of customers that the bank should focus on? For example, customers on-line? A Longer tenure? Or a specific district?**"
      ],
      "metadata": {
        "id": "giBOnAFkHWki"
      }
    },
    {
      "cell_type": "markdown",
      "source": [
        "## 은행이 주목해야할 고객의 특징 :\n",
        "**1) 온라인 고객:**\n",
        " 온라인 여부의 계수가 14.30으로 나타났다. 즉, 온라인 고객은 오프라인 고객에 비해 평균적으로 14.30 단위 만큼 더 높은 수익성을 보인다. p-value 역시 0.002로 통계적으로 유의미하므로 온라인 고객이 은행 수익성에 긍정적인 영향을 미친다는 것을 알 수 있다. \\\n",
        "  따라서 은행은 온라인 채널을 강화하고 온라인 고객을 유지하거나, 오프라인 고객을 온라인 채널로 유도하는 전략을 고려해 볼 필요가 있다. \\\n",
        "\\\n",
        "**2) 거래 기간이 긴 고객:**\n",
        "\n",
        "거래 기간의 계수는 6.24로 나타났다. 이는 거래 기간이 1년 증가할 때마다 수익성이 6.24만큼 증가한다는 것을 의미하므로, 거래 기간이 길수록 수익성이 높아지는 경향이 있다. p-값도 0.000으로 매우 유의미하며, 거래 기간이 길수록 수익성이 높아진다고 할 수 있다. \\\n",
        " 따라서, 은행은 장기 고객을 유지하거나 보상하는 프로그램을 통해 고객 충성도를 높이고, 신규 고객을 장기 고객으로 전환할 수 있는 전략을 도입하는 것이 유리할 것이다.\\\n",
        " \\\n",
        "\n",
        "**3) 특정 지역 고객:**\n",
        "\n",
        "지역 1200에 속한 고객이 다른 지역에 비해 37.31만큼 더 높은 수익성을 보이며, 이는 통계적으로 유의미한 결과다. 지역 1300에 속한 고객도 계수가 12.38로 다른 지역에 비해 더 높은 수익성을 보이나, p-value값이 0.0504 로 경계선 상에 있어 해석에 신중해야 하며, 엄밀하게는 통계적으로 유의미하다고 할 수 없기에 지역 1300은 수익성에 유의미하다고 판단할 수 없다.\\\n",
        " 따라서, 은행은 지역 1200에 집중하여 특화된 마케팅 전략을 도입하거나, 해당 지역 고객에게 프리미엄 서비스를 제공하는 방안을 고려할 수 있겠다. 반면, 지역 1300에 대해서는 추가 데이터 분석을 통해 그 지역의 수익성을 높일 방안을 모색해야 할 것이다."
      ],
      "metadata": {
        "id": "DOu3ifF0JBw7"
      }
    },
    {
      "cell_type": "markdown",
      "source": [
        "## ========= 끝 ============"
      ],
      "metadata": {
        "id": "rvEj_kTQGjc9"
      }
    }
  ]
}