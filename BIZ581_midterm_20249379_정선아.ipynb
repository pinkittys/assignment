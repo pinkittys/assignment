{
  "nbformat": 4,
  "nbformat_minor": 0,
  "metadata": {
    "colab": {
      "provenance": [],
      "authorship_tag": "ABX9TyP4bKWV1kkn9aCTKmIzvmkf",
      "include_colab_link": true
    },
    "kernelspec": {
      "name": "python3",
      "display_name": "Python 3"
    },
    "language_info": {
      "name": "python"
    }
  },
  "cells": [
    {
      "cell_type": "markdown",
      "metadata": {
        "id": "view-in-github",
        "colab_type": "text"
      },
      "source": [
        "<a href=\"https://colab.research.google.com/github/pinkittys/assignment/blob/main/BIZ581_midterm_20249379_%EC%A0%95%EC%84%A0%EC%95%84.ipynb\" target=\"_parent\"><img src=\"https://colab.research.google.com/assets/colab-badge.svg\" alt=\"Open In Colab\"/></a>"
      ]
    },
    {
      "cell_type": "code",
      "source": [
        "# 필수 라이브러리 임포트\n",
        "import pandas as pd\n",
        "import matplotlib.pyplot as plt\n",
        "import numpy as np\n",
        "from scipy import stats\n",
        "import statsmodels.api as sm\n",
        "import statsmodels.formula.api as smf"
      ],
      "metadata": {
        "id": "_DUiqS1IxYty"
      },
      "execution_count": 49,
      "outputs": []
    },
    {
      "cell_type": "markdown",
      "source": [
        "## Part 1. Descriptive analysis (Q1–Q6)"
      ],
      "metadata": {
        "id": "aWbrT5r6wc4m"
      }
    },
    {
      "cell_type": "markdown",
      "source": [
        "Download and import the dataset “ecommerce.csv” from KLMS."
      ],
      "metadata": {
        "id": "-S4XRRtJxIiT"
      }
    },
    {
      "cell_type": "code",
      "source": [
        "#Import the dataset \"ecommerce.csv\"\n",
        "df = pd.read_csv('/content/ecommerce.csv')"
      ],
      "metadata": {
        "id": "8jIewJclwyc-"
      },
      "execution_count": 50,
      "outputs": []
    },
    {
      "cell_type": "code",
      "source": [
        "# 데이터 dimension 알아보기\n",
        "df.shape"
      ],
      "metadata": {
        "colab": {
          "base_uri": "https://localhost:8080/"
        },
        "id": "O90DODZf41S1",
        "outputId": "638a86cc-3a9d-4496-daa4-d2cb98c1f47e"
      },
      "execution_count": 52,
      "outputs": [
        {
          "output_type": "execute_result",
          "data": {
            "text/plain": [
              "(1593, 45)"
            ]
          },
          "metadata": {},
          "execution_count": 52
        }
      ]
    },
    {
      "cell_type": "markdown",
      "source": [],
      "metadata": {
        "id": "U9pmgX1jXvXU"
      }
    },
    {
      "cell_type": "code",
      "source": [
        "# 데이터 구조 확인 - 상위 5행 출력\n",
        "df.head()"
      ],
      "metadata": {
        "colab": {
          "base_uri": "https://localhost:8080/",
          "height": 342
        },
        "id": "WSFu8nAWxtI2",
        "outputId": "134d04b5-84e6-4b20-f068-08423a5c5ccf"
      },
      "execution_count": 53,
      "outputs": [
        {
          "output_type": "execute_result",
          "data": {
            "text/plain": [
              "          dateTime        country           city region  screenRed surveyType  \\\n",
              "0  7/25/2014 14:10  United States         Monroe     LA  1280x1024    At Exit   \n",
              "1  7/25/2014 15:01  United States         Ambler     PA   1280x800    At Exit   \n",
              "2  7/25/2014 15:15  United States       Beaumont     TX   768x1024    At Exit   \n",
              "3  7/25/2014 17:05  United States     Cedar City     UT   1280x960    At Exit   \n",
              "4   7/26/2014 0:27  United States  Bullhead City     AZ   1138x640    At Exit   \n",
              "\n",
              "  purposeProductInfo  purposeBuyFromSite purposeComparePricing  \\\n",
              "0           Products                 NaN                   NaN   \n",
              "1                NaN  Buy from this site       Compare pricing   \n",
              "2                NaN                 NaN       Compare pricing   \n",
              "3           Products                 NaN                   NaN   \n",
              "4                NaN                 NaN                   NaN   \n",
              "\n",
              "  purposeInfoAndResources  ...     behavReferral behavPageviews behavHomePage  \\\n",
              "0               Resources  ...            Direct              4             1   \n",
              "1                     NaN  ...  Unbranded Search              0             0   \n",
              "2                     NaN  ...  Unbranded Search             10             0   \n",
              "3                     NaN  ...  Unbranded Search             10             0   \n",
              "4               Resources  ...          Referred              0             0   \n",
              "\n",
              "  behavDetailProdA behavDetailProdB behavDetailProdC behavAnySolution  \\\n",
              "0                1                0                0                0   \n",
              "1                0                0                0                0   \n",
              "2                0                0                0                1   \n",
              "3                1                1                0                1   \n",
              "4                0                0                0                0   \n",
              "\n",
              "  behavAnySale behavCart behavConversion  \n",
              "0            0         0               0  \n",
              "1            0         0               0  \n",
              "2            1         0               0  \n",
              "3            0         0               0  \n",
              "4            0         0               0  \n",
              "\n",
              "[5 rows x 45 columns]"
            ],
            "text/html": [
              "\n",
              "  <div id=\"df-709d71a8-fa82-4dc2-bd2c-28dce9122ae3\" class=\"colab-df-container\">\n",
              "    <div>\n",
              "<style scoped>\n",
              "    .dataframe tbody tr th:only-of-type {\n",
              "        vertical-align: middle;\n",
              "    }\n",
              "\n",
              "    .dataframe tbody tr th {\n",
              "        vertical-align: top;\n",
              "    }\n",
              "\n",
              "    .dataframe thead th {\n",
              "        text-align: right;\n",
              "    }\n",
              "</style>\n",
              "<table border=\"1\" class=\"dataframe\">\n",
              "  <thead>\n",
              "    <tr style=\"text-align: right;\">\n",
              "      <th></th>\n",
              "      <th>dateTime</th>\n",
              "      <th>country</th>\n",
              "      <th>city</th>\n",
              "      <th>region</th>\n",
              "      <th>screenRed</th>\n",
              "      <th>surveyType</th>\n",
              "      <th>purposeProductInfo</th>\n",
              "      <th>purposeBuyFromSite</th>\n",
              "      <th>purposeComparePricing</th>\n",
              "      <th>purposeInfoAndResources</th>\n",
              "      <th>...</th>\n",
              "      <th>behavReferral</th>\n",
              "      <th>behavPageviews</th>\n",
              "      <th>behavHomePage</th>\n",
              "      <th>behavDetailProdA</th>\n",
              "      <th>behavDetailProdB</th>\n",
              "      <th>behavDetailProdC</th>\n",
              "      <th>behavAnySolution</th>\n",
              "      <th>behavAnySale</th>\n",
              "      <th>behavCart</th>\n",
              "      <th>behavConversion</th>\n",
              "    </tr>\n",
              "  </thead>\n",
              "  <tbody>\n",
              "    <tr>\n",
              "      <th>0</th>\n",
              "      <td>7/25/2014 14:10</td>\n",
              "      <td>United States</td>\n",
              "      <td>Monroe</td>\n",
              "      <td>LA</td>\n",
              "      <td>1280x1024</td>\n",
              "      <td>At Exit</td>\n",
              "      <td>Products</td>\n",
              "      <td>NaN</td>\n",
              "      <td>NaN</td>\n",
              "      <td>Resources</td>\n",
              "      <td>...</td>\n",
              "      <td>Direct</td>\n",
              "      <td>4</td>\n",
              "      <td>1</td>\n",
              "      <td>1</td>\n",
              "      <td>0</td>\n",
              "      <td>0</td>\n",
              "      <td>0</td>\n",
              "      <td>0</td>\n",
              "      <td>0</td>\n",
              "      <td>0</td>\n",
              "    </tr>\n",
              "    <tr>\n",
              "      <th>1</th>\n",
              "      <td>7/25/2014 15:01</td>\n",
              "      <td>United States</td>\n",
              "      <td>Ambler</td>\n",
              "      <td>PA</td>\n",
              "      <td>1280x800</td>\n",
              "      <td>At Exit</td>\n",
              "      <td>NaN</td>\n",
              "      <td>Buy from this site</td>\n",
              "      <td>Compare pricing</td>\n",
              "      <td>NaN</td>\n",
              "      <td>...</td>\n",
              "      <td>Unbranded Search</td>\n",
              "      <td>0</td>\n",
              "      <td>0</td>\n",
              "      <td>0</td>\n",
              "      <td>0</td>\n",
              "      <td>0</td>\n",
              "      <td>0</td>\n",
              "      <td>0</td>\n",
              "      <td>0</td>\n",
              "      <td>0</td>\n",
              "    </tr>\n",
              "    <tr>\n",
              "      <th>2</th>\n",
              "      <td>7/25/2014 15:15</td>\n",
              "      <td>United States</td>\n",
              "      <td>Beaumont</td>\n",
              "      <td>TX</td>\n",
              "      <td>768x1024</td>\n",
              "      <td>At Exit</td>\n",
              "      <td>NaN</td>\n",
              "      <td>NaN</td>\n",
              "      <td>Compare pricing</td>\n",
              "      <td>NaN</td>\n",
              "      <td>...</td>\n",
              "      <td>Unbranded Search</td>\n",
              "      <td>10</td>\n",
              "      <td>0</td>\n",
              "      <td>0</td>\n",
              "      <td>0</td>\n",
              "      <td>0</td>\n",
              "      <td>1</td>\n",
              "      <td>1</td>\n",
              "      <td>0</td>\n",
              "      <td>0</td>\n",
              "    </tr>\n",
              "    <tr>\n",
              "      <th>3</th>\n",
              "      <td>7/25/2014 17:05</td>\n",
              "      <td>United States</td>\n",
              "      <td>Cedar City</td>\n",
              "      <td>UT</td>\n",
              "      <td>1280x960</td>\n",
              "      <td>At Exit</td>\n",
              "      <td>Products</td>\n",
              "      <td>NaN</td>\n",
              "      <td>NaN</td>\n",
              "      <td>NaN</td>\n",
              "      <td>...</td>\n",
              "      <td>Unbranded Search</td>\n",
              "      <td>10</td>\n",
              "      <td>0</td>\n",
              "      <td>1</td>\n",
              "      <td>1</td>\n",
              "      <td>0</td>\n",
              "      <td>1</td>\n",
              "      <td>0</td>\n",
              "      <td>0</td>\n",
              "      <td>0</td>\n",
              "    </tr>\n",
              "    <tr>\n",
              "      <th>4</th>\n",
              "      <td>7/26/2014 0:27</td>\n",
              "      <td>United States</td>\n",
              "      <td>Bullhead City</td>\n",
              "      <td>AZ</td>\n",
              "      <td>1138x640</td>\n",
              "      <td>At Exit</td>\n",
              "      <td>NaN</td>\n",
              "      <td>NaN</td>\n",
              "      <td>NaN</td>\n",
              "      <td>Resources</td>\n",
              "      <td>...</td>\n",
              "      <td>Referred</td>\n",
              "      <td>0</td>\n",
              "      <td>0</td>\n",
              "      <td>0</td>\n",
              "      <td>0</td>\n",
              "      <td>0</td>\n",
              "      <td>0</td>\n",
              "      <td>0</td>\n",
              "      <td>0</td>\n",
              "      <td>0</td>\n",
              "    </tr>\n",
              "  </tbody>\n",
              "</table>\n",
              "<p>5 rows × 45 columns</p>\n",
              "</div>\n",
              "    <div class=\"colab-df-buttons\">\n",
              "\n",
              "  <div class=\"colab-df-container\">\n",
              "    <button class=\"colab-df-convert\" onclick=\"convertToInteractive('df-709d71a8-fa82-4dc2-bd2c-28dce9122ae3')\"\n",
              "            title=\"Convert this dataframe to an interactive table.\"\n",
              "            style=\"display:none;\">\n",
              "\n",
              "  <svg xmlns=\"http://www.w3.org/2000/svg\" height=\"24px\" viewBox=\"0 -960 960 960\">\n",
              "    <path d=\"M120-120v-720h720v720H120Zm60-500h600v-160H180v160Zm220 220h160v-160H400v160Zm0 220h160v-160H400v160ZM180-400h160v-160H180v160Zm440 0h160v-160H620v160ZM180-180h160v-160H180v160Zm440 0h160v-160H620v160Z\"/>\n",
              "  </svg>\n",
              "    </button>\n",
              "\n",
              "  <style>\n",
              "    .colab-df-container {\n",
              "      display:flex;\n",
              "      gap: 12px;\n",
              "    }\n",
              "\n",
              "    .colab-df-convert {\n",
              "      background-color: #E8F0FE;\n",
              "      border: none;\n",
              "      border-radius: 50%;\n",
              "      cursor: pointer;\n",
              "      display: none;\n",
              "      fill: #1967D2;\n",
              "      height: 32px;\n",
              "      padding: 0 0 0 0;\n",
              "      width: 32px;\n",
              "    }\n",
              "\n",
              "    .colab-df-convert:hover {\n",
              "      background-color: #E2EBFA;\n",
              "      box-shadow: 0px 1px 2px rgba(60, 64, 67, 0.3), 0px 1px 3px 1px rgba(60, 64, 67, 0.15);\n",
              "      fill: #174EA6;\n",
              "    }\n",
              "\n",
              "    .colab-df-buttons div {\n",
              "      margin-bottom: 4px;\n",
              "    }\n",
              "\n",
              "    [theme=dark] .colab-df-convert {\n",
              "      background-color: #3B4455;\n",
              "      fill: #D2E3FC;\n",
              "    }\n",
              "\n",
              "    [theme=dark] .colab-df-convert:hover {\n",
              "      background-color: #434B5C;\n",
              "      box-shadow: 0px 1px 3px 1px rgba(0, 0, 0, 0.15);\n",
              "      filter: drop-shadow(0px 1px 2px rgba(0, 0, 0, 0.3));\n",
              "      fill: #FFFFFF;\n",
              "    }\n",
              "  </style>\n",
              "\n",
              "    <script>\n",
              "      const buttonEl =\n",
              "        document.querySelector('#df-709d71a8-fa82-4dc2-bd2c-28dce9122ae3 button.colab-df-convert');\n",
              "      buttonEl.style.display =\n",
              "        google.colab.kernel.accessAllowed ? 'block' : 'none';\n",
              "\n",
              "      async function convertToInteractive(key) {\n",
              "        const element = document.querySelector('#df-709d71a8-fa82-4dc2-bd2c-28dce9122ae3');\n",
              "        const dataTable =\n",
              "          await google.colab.kernel.invokeFunction('convertToInteractive',\n",
              "                                                    [key], {});\n",
              "        if (!dataTable) return;\n",
              "\n",
              "        const docLinkHtml = 'Like what you see? Visit the ' +\n",
              "          '<a target=\"_blank\" href=https://colab.research.google.com/notebooks/data_table.ipynb>data table notebook</a>'\n",
              "          + ' to learn more about interactive tables.';\n",
              "        element.innerHTML = '';\n",
              "        dataTable['output_type'] = 'display_data';\n",
              "        await google.colab.output.renderOutput(dataTable, element);\n",
              "        const docLink = document.createElement('div');\n",
              "        docLink.innerHTML = docLinkHtml;\n",
              "        element.appendChild(docLink);\n",
              "      }\n",
              "    </script>\n",
              "  </div>\n",
              "\n",
              "\n",
              "<div id=\"df-41bd85c7-d51a-4dda-ad02-59ecc1174445\">\n",
              "  <button class=\"colab-df-quickchart\" onclick=\"quickchart('df-41bd85c7-d51a-4dda-ad02-59ecc1174445')\"\n",
              "            title=\"Suggest charts\"\n",
              "            style=\"display:none;\">\n",
              "\n",
              "<svg xmlns=\"http://www.w3.org/2000/svg\" height=\"24px\"viewBox=\"0 0 24 24\"\n",
              "     width=\"24px\">\n",
              "    <g>\n",
              "        <path d=\"M19 3H5c-1.1 0-2 .9-2 2v14c0 1.1.9 2 2 2h14c1.1 0 2-.9 2-2V5c0-1.1-.9-2-2-2zM9 17H7v-7h2v7zm4 0h-2V7h2v10zm4 0h-2v-4h2v4z\"/>\n",
              "    </g>\n",
              "</svg>\n",
              "  </button>\n",
              "\n",
              "<style>\n",
              "  .colab-df-quickchart {\n",
              "      --bg-color: #E8F0FE;\n",
              "      --fill-color: #1967D2;\n",
              "      --hover-bg-color: #E2EBFA;\n",
              "      --hover-fill-color: #174EA6;\n",
              "      --disabled-fill-color: #AAA;\n",
              "      --disabled-bg-color: #DDD;\n",
              "  }\n",
              "\n",
              "  [theme=dark] .colab-df-quickchart {\n",
              "      --bg-color: #3B4455;\n",
              "      --fill-color: #D2E3FC;\n",
              "      --hover-bg-color: #434B5C;\n",
              "      --hover-fill-color: #FFFFFF;\n",
              "      --disabled-bg-color: #3B4455;\n",
              "      --disabled-fill-color: #666;\n",
              "  }\n",
              "\n",
              "  .colab-df-quickchart {\n",
              "    background-color: var(--bg-color);\n",
              "    border: none;\n",
              "    border-radius: 50%;\n",
              "    cursor: pointer;\n",
              "    display: none;\n",
              "    fill: var(--fill-color);\n",
              "    height: 32px;\n",
              "    padding: 0;\n",
              "    width: 32px;\n",
              "  }\n",
              "\n",
              "  .colab-df-quickchart:hover {\n",
              "    background-color: var(--hover-bg-color);\n",
              "    box-shadow: 0 1px 2px rgba(60, 64, 67, 0.3), 0 1px 3px 1px rgba(60, 64, 67, 0.15);\n",
              "    fill: var(--button-hover-fill-color);\n",
              "  }\n",
              "\n",
              "  .colab-df-quickchart-complete:disabled,\n",
              "  .colab-df-quickchart-complete:disabled:hover {\n",
              "    background-color: var(--disabled-bg-color);\n",
              "    fill: var(--disabled-fill-color);\n",
              "    box-shadow: none;\n",
              "  }\n",
              "\n",
              "  .colab-df-spinner {\n",
              "    border: 2px solid var(--fill-color);\n",
              "    border-color: transparent;\n",
              "    border-bottom-color: var(--fill-color);\n",
              "    animation:\n",
              "      spin 1s steps(1) infinite;\n",
              "  }\n",
              "\n",
              "  @keyframes spin {\n",
              "    0% {\n",
              "      border-color: transparent;\n",
              "      border-bottom-color: var(--fill-color);\n",
              "      border-left-color: var(--fill-color);\n",
              "    }\n",
              "    20% {\n",
              "      border-color: transparent;\n",
              "      border-left-color: var(--fill-color);\n",
              "      border-top-color: var(--fill-color);\n",
              "    }\n",
              "    30% {\n",
              "      border-color: transparent;\n",
              "      border-left-color: var(--fill-color);\n",
              "      border-top-color: var(--fill-color);\n",
              "      border-right-color: var(--fill-color);\n",
              "    }\n",
              "    40% {\n",
              "      border-color: transparent;\n",
              "      border-right-color: var(--fill-color);\n",
              "      border-top-color: var(--fill-color);\n",
              "    }\n",
              "    60% {\n",
              "      border-color: transparent;\n",
              "      border-right-color: var(--fill-color);\n",
              "    }\n",
              "    80% {\n",
              "      border-color: transparent;\n",
              "      border-right-color: var(--fill-color);\n",
              "      border-bottom-color: var(--fill-color);\n",
              "    }\n",
              "    90% {\n",
              "      border-color: transparent;\n",
              "      border-bottom-color: var(--fill-color);\n",
              "    }\n",
              "  }\n",
              "</style>\n",
              "\n",
              "  <script>\n",
              "    async function quickchart(key) {\n",
              "      const quickchartButtonEl =\n",
              "        document.querySelector('#' + key + ' button');\n",
              "      quickchartButtonEl.disabled = true;  // To prevent multiple clicks.\n",
              "      quickchartButtonEl.classList.add('colab-df-spinner');\n",
              "      try {\n",
              "        const charts = await google.colab.kernel.invokeFunction(\n",
              "            'suggestCharts', [key], {});\n",
              "      } catch (error) {\n",
              "        console.error('Error during call to suggestCharts:', error);\n",
              "      }\n",
              "      quickchartButtonEl.classList.remove('colab-df-spinner');\n",
              "      quickchartButtonEl.classList.add('colab-df-quickchart-complete');\n",
              "    }\n",
              "    (() => {\n",
              "      let quickchartButtonEl =\n",
              "        document.querySelector('#df-41bd85c7-d51a-4dda-ad02-59ecc1174445 button');\n",
              "      quickchartButtonEl.style.display =\n",
              "        google.colab.kernel.accessAllowed ? 'block' : 'none';\n",
              "    })();\n",
              "  </script>\n",
              "</div>\n",
              "\n",
              "    </div>\n",
              "  </div>\n"
            ],
            "application/vnd.google.colaboratory.intrinsic+json": {
              "type": "dataframe",
              "variable_name": "df"
            }
          },
          "metadata": {},
          "execution_count": 53
        }
      ]
    },
    {
      "cell_type": "code",
      "source": [
        "# 결측치 및 데이터 확인\n",
        "print(df.isna().sum())"
      ],
      "metadata": {
        "colab": {
          "base_uri": "https://localhost:8080/"
        },
        "id": "Wi0onfarzONv",
        "outputId": "3dc3555a-b291-420d-a350-8ba70548f0bb"
      },
      "execution_count": 56,
      "outputs": [
        {
          "output_type": "stream",
          "name": "stdout",
          "text": [
            "dateTime                          0\n",
            "country                           0\n",
            "city                             36\n",
            "region                           24\n",
            "screenRed                         0\n",
            "surveyType                        0\n",
            "purposeProductInfo              500\n",
            "purposeBuyFromSite             1094\n",
            "purposeComparePricing          1210\n",
            "purposeInfoAndResources        1072\n",
            "purposeInfoOnOrder             1580\n",
            "purposeOther                   1526\n",
            "taskFindWhatLookingFor          682\n",
            "concernShippingCost            1521\n",
            "concernDeliverySpeed           1568\n",
            "concernWarranties              1561\n",
            "concernEaseToReturnProduct     1532\n",
            "concernProductSafety           1579\n",
            "concernRightForMyChild         1494\n",
            "concernProductQuality          1538\n",
            "concernProductEffectiveness    1508\n",
            "concernOther                   1583\n",
            "concernNone                    1484\n",
            "intentWasPlanningToBuy         1095\n",
            "profile                           0\n",
            "whenSiteUsed                     53\n",
            "purchasedBefore                 976\n",
            "purchasedWhen                  1246\n",
            "productKnewWhatWanted           379\n",
            "productSiteHasWhatWanted       1172\n",
            "purchaseExpectInNextMonth       214\n",
            "siteFirstHeardAbout             959\n",
            "age                             980\n",
            "gender                          984\n",
            "behavNumVisits                    0\n",
            "behavReferral                     1\n",
            "behavPageviews                    0\n",
            "behavHomePage                     0\n",
            "behavDetailProdA                  0\n",
            "behavDetailProdB                  0\n",
            "behavDetailProdC                  0\n",
            "behavAnySolution                  0\n",
            "behavAnySale                      0\n",
            "behavCart                         0\n",
            "behavConversion                   0\n",
            "dtype: int64\n"
          ]
        }
      ]
    },
    {
      "cell_type": "markdown",
      "source": [
        "### Q1."
      ],
      "metadata": {
        "id": "C4F6TcBUw5JJ"
      }
    },
    {
      "cell_type": "markdown",
      "source": [
        "Produce a table that shows the number of site visitors by their country of origin. Which country has the most visitors?"
      ],
      "metadata": {
        "id": "9MxR7S11b72M"
      }
    },
    {
      "cell_type": "code",
      "execution_count": 57,
      "metadata": {
        "colab": {
          "base_uri": "https://localhost:8080/"
        },
        "id": "Jr-6KJFev2pf",
        "outputId": "92aa5516-a08c-415b-dc80-4b7a1de6feb5"
      },
      "outputs": [
        {
          "output_type": "stream",
          "name": "stdout",
          "text": [
            "                 country  Number of Visitors\n",
            "0              Australia                  50\n",
            "1               Barbados                   1\n",
            "2               Botswana                   1\n",
            "3                 Brazil                   3\n",
            "4                 Canada                  62\n",
            "5               Colombia                   1\n",
            "6             Costa Rica                   3\n",
            "7                Denmark                   3\n",
            "8                 France                   1\n",
            "9                Germany                   2\n",
            "10                 Haiti                   1\n",
            "11                 India                  13\n",
            "12               Ireland                   3\n",
            "13                Israel                   4\n",
            "14                 Italy                   1\n",
            "15                 Japan                   1\n",
            "16                Kuwait                   1\n",
            "17              Malaysia                   3\n",
            "18                 Malta                   2\n",
            "19                Mexico                   3\n",
            "20               Namibia                   1\n",
            "21           Netherlands                   4\n",
            "22           New Zealand                   1\n",
            "23               Nigeria                   2\n",
            "24                Norway                   1\n",
            "25                Panama                   1\n",
            "26           Philippines                   2\n",
            "27                Poland                   1\n",
            "28              Portugal                   1\n",
            "29           Puerto Rico                   6\n",
            "30               Romania                   1\n",
            "31          Saudi Arabia                   1\n",
            "32             Singapore                   1\n",
            "33              Slovenia                   1\n",
            "34          South Africa                   8\n",
            "35                 Spain                   1\n",
            "36                Sweden                   1\n",
            "37              Thailand                   1\n",
            "38   Trinidad and Tobago                   1\n",
            "39                Turkey                   1\n",
            "40               Ukraine                   1\n",
            "41  United Arab Emirates                   4\n",
            "42        United Kingdom                  31\n",
            "43         United States                1361\n",
            "Answer1: The country with the most visitors is United States with 1361 visitors.\n"
          ]
        }
      ],
      "source": [
        "# 방문자의 출신 국가별 방문자 수 계산\n",
        "country_visitor = df.groupby('country').size().reset_index(name='Number of Visitors')\n",
        "\n",
        "# 국가별 방문자 수 출력\n",
        "print(country_visitor)\n",
        "\n",
        "# 방문자가 가장 많은 국가 출력\n",
        "most_visitors_country = country_visitor.loc[country_visitor['Number of Visitors'].idxmax()]\n",
        "print(f\"Answer1: The country with the most visitors is {most_visitors_country['country']} with {most_visitors_country['Number of Visitors']} visitors.\")\n"
      ]
    },
    {
      "cell_type": "markdown",
      "source": [
        "### Q2."
      ],
      "metadata": {
        "id": "Spb66m6NwmzI"
      }
    },
    {
      "cell_type": "markdown",
      "source": [
        "Produce a crosstabulation table for the intent to purchase (“intentWasPlanningToBuy” variable), broken out by user profile (“profile” variable). (Note. Don’t worry about value 0 in the profile variable.)"
      ],
      "metadata": {
        "id": "bSZx13SFcDhe"
      }
    },
    {
      "cell_type": "code",
      "source": [
        "# intentWasPlanningToBuy와 profile 변수를 기준으로 교차표 생성\n",
        "crosstab = pd.crosstab(df['intentWasPlanningToBuy'], df['profile'])\n",
        "print(crosstab)"
      ],
      "metadata": {
        "colab": {
          "base_uri": "https://localhost:8080/"
        },
        "id": "xDswT7effwqQ",
        "outputId": "835a4ef0-b3c0-4fb1-b694-38f534645ca7"
      },
      "execution_count": 58,
      "outputs": [
        {
          "output_type": "stream",
          "name": "stdout",
          "text": [
            "profile                           Friend/family friend  Health Professional  \\\n",
            "intentWasPlanningToBuy                                                        \n",
            "No                                                   0                   12   \n",
            "Partially (I was considering it)                     1                   38   \n",
            "Yes                                                  0                   24   \n",
            "\n",
            "profile                           Other  Parent  Person with [condition A]  \\\n",
            "intentWasPlanningToBuy                                                       \n",
            "No                                    5      16                          0   \n",
            "Partially (I was considering it)     19     174                          8   \n",
            "Yes                                  14      96                          4   \n",
            "\n",
            "profile                           Relative  Teacher  \n",
            "intentWasPlanningToBuy                               \n",
            "No                                       4        9  \n",
            "Partially (I was considering it)        14       35  \n",
            "Yes                                     11       14  \n"
          ]
        }
      ]
    },
    {
      "cell_type": "markdown",
      "source": [
        "### Q3."
      ],
      "metadata": {
        "id": "mtoOsZAWg-9c"
      }
    },
    {
      "cell_type": "markdown",
      "source": [
        "What are the proportions of parents who intended to purchase? (Hint: report the proportion of users who replied “Yes” among parents.)"
      ],
      "metadata": {
        "id": "zy5_WZOVhQqf"
      }
    },
    {
      "cell_type": "code",
      "source": [
        "# 'profile' 열에서 부모('Parent')만 필터링 후, intentWasPlanningToBuy의 \"Yes\" 비율 계산\n",
        "parents_df = df[df['profile'] == 'Parent']\n",
        "yes_proportion = (parents_df['intentWasPlanningToBuy'] == 'Yes').mean()\n",
        "print(f\"Answer3: 부모 중 구매 의도를 가지고 있던 사람들의 비율: {yes_proportion:.2%}\")\n"
      ],
      "metadata": {
        "colab": {
          "base_uri": "https://localhost:8080/"
        },
        "id": "w29MfPzXYb4R",
        "outputId": "e04034ce-39ed-4884-b1a6-31d8198e498c"
      },
      "execution_count": 67,
      "outputs": [
        {
          "output_type": "stream",
          "name": "stdout",
          "text": [
            "Answer3: 부모 중 구매 의도를 가지고 있던 사람들의 비율: 12.37%\n"
          ]
        }
      ]
    },
    {
      "cell_type": "markdown",
      "source": [
        "### Q4."
      ],
      "metadata": {
        "id": "7iaxd_TymVrj"
      }
    },
    {
      "cell_type": "markdown",
      "source": [
        "Produce a histogram for the number of visits to the site (“behavNumVisits” variable) with fifty bins. Explain what you observe from the histogram about the distribution of the variable."
      ],
      "metadata": {
        "id": "r1eaxMLfmav9"
      }
    },
    {
      "cell_type": "code",
      "source": [
        "# behavNumVisits 히스토그램 생성 (빈 개수: 50)\n",
        "plt.hist(df['behavNumVisits'], bins=50, edgecolor='black')\n",
        "plt.title('Number of Visits to the Site')\n",
        "plt.xlabel('Number of Visits')\n",
        "plt.ylabel('Frequency')\n",
        "plt.show()"
      ],
      "metadata": {
        "colab": {
          "base_uri": "https://localhost:8080/",
          "height": 472
        },
        "id": "fmdUKRv8g-dZ",
        "outputId": "e2f3c090-353b-4a77-875b-29eb9b6dbee9"
      },
      "execution_count": 68,
      "outputs": [
        {
          "output_type": "display_data",
          "data": {
            "text/plain": [
              "<Figure size 640x480 with 1 Axes>"
            ],
            "image/png": "[encoded data removed]"
          },
          "metadata": {}
        }
      ]
    },
    {
      "cell_type": "markdown",
      "source": [
        "해석 : 대부분의 사용자들은 1회에서 5회 사이로 적은 수의 방문 횟수를 기록, 낮은 방문 빈도의 방문자가 많다.\\\n",
        "그러나, 소수의 사용자들이 자주 사이트를 방문하고 있어, 히스토그램에서 오른쪽 꼬리가 긴 분포로 나타났다."
      ],
      "metadata": {
        "id": "_b1yEuG2uK9C"
      }
    },
    {
      "cell_type": "markdown",
      "source": [
        "### Q5."
      ],
      "metadata": {
        "id": "QC9112UUpfnK"
      }
    },
    {
      "cell_type": "markdown",
      "source": [
        "We want to understand whether more frequent visitors are likely to view more pages on the site. Compute the correlation between the two variables “behavNumVisits” and “behavPageviews”."
      ],
      "metadata": {
        "id": "762TfkucpwPM"
      }
    },
    {
      "cell_type": "code",
      "source": [
        "# 두 변수(\"behavNumVisits\",\"behavPageviews\") 간의 상관관계 계산\n",
        "correlation = df['behavNumVisits'].corr(df['behavPageviews'])\n",
        "print(f\"방문 횟수와 페이지뷰 간의 상관관계: {correlation:.2f}\")"
      ],
      "metadata": {
        "colab": {
          "base_uri": "https://localhost:8080/"
        },
        "id": "e0FInvwUpsit",
        "outputId": "7c63392b-7ef8-4c66-fc5a-01b26a82a973"
      },
      "execution_count": 69,
      "outputs": [
        {
          "output_type": "stream",
          "name": "stdout",
          "text": [
            "방문 횟수와 페이지뷰 간의 상관관계: 0.01\n"
          ]
        }
      ]
    },
    {
      "cell_type": "markdown",
      "source": [
        "Answer5 - 상관계수가 0.01으로 두 변수 간의 상관관계가 거의 없다.\\\n",
        "즉, 사용자가 사이트를 더 자주 방문한다고 해서 그들이 반드시 더 많은 페이지를 본다는 의미는 아니다."
      ],
      "metadata": {
        "id": "9WUtxe3tqbOt"
      }
    },
    {
      "cell_type": "markdown",
      "source": [
        "### Q6."
      ],
      "metadata": {
        "id": "dW4M_gQ-q4C7"
      }
    },
    {
      "cell_type": "markdown",
      "source": [
        "Show a table showing the average page views by user profile using groupby function."
      ],
      "metadata": {
        "id": "WFnj7K8yq-gB"
      }
    },
    {
      "cell_type": "code",
      "source": [
        "# profile(사용자 프로필)별로 페이지뷰(behavPageviews)의 평균을 계산\n",
        "avg_pv_profile = df.groupby('profile')['behavPageviews'].mean().reset_index()\n",
        "print(avg_pv_profile)"
      ],
      "metadata": {
        "colab": {
          "base_uri": "https://localhost:8080/"
        },
        "id": "LdJXLNAIq7JC",
        "outputId": "acdd80a2-641d-487e-dbe5-d8c429c4913f"
      },
      "execution_count": 70,
      "outputs": [
        {
          "output_type": "stream",
          "name": "stdout",
          "text": [
            "                     profile  behavPageviews\n",
            "0                          0        2.000000\n",
            "1       Friend/family friend        5.521739\n",
            "2        Health Professional        5.007220\n",
            "3                      Other        4.149254\n",
            "4                     Parent        6.161082\n",
            "5  Person with [condition A]        5.557692\n",
            "6                   Relative        5.579439\n",
            "7                    Teacher        5.291480\n"
          ]
        }
      ]
    },
    {
      "cell_type": "markdown",
      "source": [
        "해석 : Parent (6.16): 부모 그룹이 다른 그룹에 비해 가장 높은 평균 페이지뷰를 기록"
      ],
      "metadata": {
        "id": "A9B7Se7IrvjH"
      }
    },
    {
      "cell_type": "markdown",
      "source": [
        "## Part 2. Linear regression analysis (Q7–Q12)"
      ],
      "metadata": {
        "id": "Bw1rTViTr721"
      }
    },
    {
      "cell_type": "markdown",
      "source": [
        "Download and import the dataset “BostonHousing.csv” from KLMS.\n"
      ],
      "metadata": {
        "id": "tsEUAR_QsJky"
      }
    },
    {
      "cell_type": "code",
      "source": [
        "#Import the dataset \"BostonHousing.csv\"\n",
        "df = pd.read_csv('/content/BostonHousing.csv')"
      ],
      "metadata": {
        "id": "TX7K0OjgsMUy"
      },
      "execution_count": 71,
      "outputs": []
    },
    {
      "cell_type": "code",
      "source": [
        "# 데이터 dimension 알아보기\n",
        "df.shape"
      ],
      "metadata": {
        "colab": {
          "base_uri": "https://localhost:8080/"
        },
        "id": "LJkuomnMu5XY",
        "outputId": "ddf54d35-5b9a-4cc6-8fa5-7a29d13f3f40"
      },
      "execution_count": 72,
      "outputs": [
        {
          "output_type": "execute_result",
          "data": {
            "text/plain": [
              "(506, 14)"
            ]
          },
          "metadata": {},
          "execution_count": 72
        }
      ]
    },
    {
      "cell_type": "code",
      "source": [
        "# 데이터 구조 확인 - 상위 5행 출력\n",
        "df.head()"
      ],
      "metadata": {
        "colab": {
          "base_uri": "https://localhost:8080/",
          "height": 206
        },
        "id": "fHzuDmbmvBPP",
        "outputId": "5e16b935-eb6e-4695-ab3f-333d28f1ac83"
      },
      "execution_count": 73,
      "outputs": [
        {
          "output_type": "execute_result",
          "data": {
            "text/plain": [
              "      CRIM    ZN  INDUS  CHAS    NOX     RM   AGE     DIS  RAD  TAX  PTRATIO  \\\n",
              "0  0.00632  18.0   2.31     0  0.538  6.575  65.2  4.0900    1  296     15.3   \n",
              "1  0.02731   0.0   7.07     0  0.469  6.421  78.9  4.9671    2  242     17.8   \n",
              "2  0.02729   0.0   7.07     0  0.469  7.185  61.1  4.9671    2  242     17.8   \n",
              "3  0.03237   0.0   2.18     0  0.458  6.998  45.8  6.0622    3  222     18.7   \n",
              "4  0.06905   0.0   2.18     0  0.458  7.147  54.2  6.0622    3  222     18.7   \n",
              "\n",
              "   LSTAT  MEDV  CAT. MEDV  \n",
              "0   4.98  24.0          0  \n",
              "1   9.14  21.6          0  \n",
              "2   4.03  34.7          1  \n",
              "3   2.94  33.4          1  \n",
              "4   5.33  36.2          1  "
            ],
            "text/html": [
              "\n",
              "  <div id=\"df-d6d12b41-8522-439a-b01a-76bfb47b8da0\" class=\"colab-df-container\">\n",
              "    <div>\n",
              "<style scoped>\n",
              "    .dataframe tbody tr th:only-of-type {\n",
              "        vertical-align: middle;\n",
              "    }\n",
              "\n",
              "    .dataframe tbody tr th {\n",
              "        vertical-align: top;\n",
              "    }\n",
              "\n",
              "    .dataframe thead th {\n",
              "        text-align: right;\n",
              "    }\n",
              "</style>\n",
              "<table border=\"1\" class=\"dataframe\">\n",
              "  <thead>\n",
              "    <tr style=\"text-align: right;\">\n",
              "      <th></th>\n",
              "      <th>CRIM</th>\n",
              "      <th>ZN</th>\n",
              "      <th>INDUS</th>\n",
              "      <th>CHAS</th>\n",
              "      <th>NOX</th>\n",
              "      <th>RM</th>\n",
              "      <th>AGE</th>\n",
              "      <th>DIS</th>\n",
              "      <th>RAD</th>\n",
              "      <th>TAX</th>\n",
              "      <th>PTRATIO</th>\n",
              "      <th>LSTAT</th>\n",
              "      <th>MEDV</th>\n",
              "      <th>CAT. MEDV</th>\n",
              "    </tr>\n",
              "  </thead>\n",
              "  <tbody>\n",
              "    <tr>\n",
              "      <th>0</th>\n",
              "      <td>0.00632</td>\n",
              "      <td>18.0</td>\n",
              "      <td>2.31</td>\n",
              "      <td>0</td>\n",
              "      <td>0.538</td>\n",
              "      <td>6.575</td>\n",
              "      <td>65.2</td>\n",
              "      <td>4.0900</td>\n",
              "      <td>1</td>\n",
              "      <td>296</td>\n",
              "      <td>15.3</td>\n",
              "      <td>4.98</td>\n",
              "      <td>24.0</td>\n",
              "      <td>0</td>\n",
              "    </tr>\n",
              "    <tr>\n",
              "      <th>1</th>\n",
              "      <td>0.02731</td>\n",
              "      <td>0.0</td>\n",
              "      <td>7.07</td>\n",
              "      <td>0</td>\n",
              "      <td>0.469</td>\n",
              "      <td>6.421</td>\n",
              "      <td>78.9</td>\n",
              "      <td>4.9671</td>\n",
              "      <td>2</td>\n",
              "      <td>242</td>\n",
              "      <td>17.8</td>\n",
              "      <td>9.14</td>\n",
              "      <td>21.6</td>\n",
              "      <td>0</td>\n",
              "    </tr>\n",
              "    <tr>\n",
              "      <th>2</th>\n",
              "      <td>0.02729</td>\n",
              "      <td>0.0</td>\n",
              "      <td>7.07</td>\n",
              "      <td>0</td>\n",
              "      <td>0.469</td>\n",
              "      <td>7.185</td>\n",
              "      <td>61.1</td>\n",
              "      <td>4.9671</td>\n",
              "      <td>2</td>\n",
              "      <td>242</td>\n",
              "      <td>17.8</td>\n",
              "      <td>4.03</td>\n",
              "      <td>34.7</td>\n",
              "      <td>1</td>\n",
              "    </tr>\n",
              "    <tr>\n",
              "      <th>3</th>\n",
              "      <td>0.03237</td>\n",
              "      <td>0.0</td>\n",
              "      <td>2.18</td>\n",
              "      <td>0</td>\n",
              "      <td>0.458</td>\n",
              "      <td>6.998</td>\n",
              "      <td>45.8</td>\n",
              "      <td>6.0622</td>\n",
              "      <td>3</td>\n",
              "      <td>222</td>\n",
              "      <td>18.7</td>\n",
              "      <td>2.94</td>\n",
              "      <td>33.4</td>\n",
              "      <td>1</td>\n",
              "    </tr>\n",
              "    <tr>\n",
              "      <th>4</th>\n",
              "      <td>0.06905</td>\n",
              "      <td>0.0</td>\n",
              "      <td>2.18</td>\n",
              "      <td>0</td>\n",
              "      <td>0.458</td>\n",
              "      <td>7.147</td>\n",
              "      <td>54.2</td>\n",
              "      <td>6.0622</td>\n",
              "      <td>3</td>\n",
              "      <td>222</td>\n",
              "      <td>18.7</td>\n",
              "      <td>5.33</td>\n",
              "      <td>36.2</td>\n",
              "      <td>1</td>\n",
              "    </tr>\n",
              "  </tbody>\n",
              "</table>\n",
              "</div>\n",
              "    <div class=\"colab-df-buttons\">\n",
              "\n",
              "  <div class=\"colab-df-container\">\n",
              "    <button class=\"colab-df-convert\" onclick=\"convertToInteractive('df-d6d12b41-8522-439a-b01a-76bfb47b8da0')\"\n",
              "            title=\"Convert this dataframe to an interactive table.\"\n",
              "            style=\"display:none;\">\n",
              "\n",
              "  <svg xmlns=\"http://www.w3.org/2000/svg\" height=\"24px\" viewBox=\"0 -960 960 960\">\n",
              "    <path d=\"M120-120v-720h720v720H120Zm60-500h600v-160H180v160Zm220 220h160v-160H400v160Zm0 220h160v-160H400v160ZM180-400h160v-160H180v160Zm440 0h160v-160H620v160ZM180-180h160v-160H180v160Zm440 0h160v-160H620v160Z\"/>\n",
              "  </svg>\n",
              "    </button>\n",
              "\n",
              "  <style>\n",
              "    .colab-df-container {\n",
              "      display:flex;\n",
              "      gap: 12px;\n",
              "    }\n",
              "\n",
              "    .colab-df-convert {\n",
              "      background-color: #E8F0FE;\n",
              "      border: none;\n",
              "      border-radius: 50%;\n",
              "      cursor: pointer;\n",
              "      display: none;\n",
              "      fill: #1967D2;\n",
              "      height: 32px;\n",
              "      padding: 0 0 0 0;\n",
              "      width: 32px;\n",
              "    }\n",
              "\n",
              "    .colab-df-convert:hover {\n",
              "      background-color: #E2EBFA;\n",
              "      box-shadow: 0px 1px 2px rgba(60, 64, 67, 0.3), 0px 1px 3px 1px rgba(60, 64, 67, 0.15);\n",
              "      fill: #174EA6;\n",
              "    }\n",
              "\n",
              "    .colab-df-buttons div {\n",
              "      margin-bottom: 4px;\n",
              "    }\n",
              "\n",
              "    [theme=dark] .colab-df-convert {\n",
              "      background-color: #3B4455;\n",
              "      fill: #D2E3FC;\n",
              "    }\n",
              "\n",
              "    [theme=dark] .colab-df-convert:hover {\n",
              "      background-color: #434B5C;\n",
              "      box-shadow: 0px 1px 3px 1px rgba(0, 0, 0, 0.15);\n",
              "      filter: drop-shadow(0px 1px 2px rgba(0, 0, 0, 0.3));\n",
              "      fill: #FFFFFF;\n",
              "    }\n",
              "  </style>\n",
              "\n",
              "    <script>\n",
              "      const buttonEl =\n",
              "        document.querySelector('#df-d6d12b41-8522-439a-b01a-76bfb47b8da0 button.colab-df-convert');\n",
              "      buttonEl.style.display =\n",
              "        google.colab.kernel.accessAllowed ? 'block' : 'none';\n",
              "\n",
              "      async function convertToInteractive(key) {\n",
              "        const element = document.querySelector('#df-d6d12b41-8522-439a-b01a-76bfb47b8da0');\n",
              "        const dataTable =\n",
              "          await google.colab.kernel.invokeFunction('convertToInteractive',\n",
              "                                                    [key], {});\n",
              "        if (!dataTable) return;\n",
              "\n",
              "        const docLinkHtml = 'Like what you see? Visit the ' +\n",
              "          '<a target=\"_blank\" href=https://colab.research.google.com/notebooks/data_table.ipynb>data table notebook</a>'\n",
              "          + ' to learn more about interactive tables.';\n",
              "        element.innerHTML = '';\n",
              "        dataTable['output_type'] = 'display_data';\n",
              "        await google.colab.output.renderOutput(dataTable, element);\n",
              "        const docLink = document.createElement('div');\n",
              "        docLink.innerHTML = docLinkHtml;\n",
              "        element.appendChild(docLink);\n",
              "      }\n",
              "    </script>\n",
              "  </div>\n",
              "\n",
              "\n",
              "<div id=\"df-651acfb9-fd6b-432e-821a-32f34be7d5c6\">\n",
              "  <button class=\"colab-df-quickchart\" onclick=\"quickchart('df-651acfb9-fd6b-432e-821a-32f34be7d5c6')\"\n",
              "            title=\"Suggest charts\"\n",
              "            style=\"display:none;\">\n",
              "\n",
              "<svg xmlns=\"http://www.w3.org/2000/svg\" height=\"24px\"viewBox=\"0 0 24 24\"\n",
              "     width=\"24px\">\n",
              "    <g>\n",
              "        <path d=\"M19 3H5c-1.1 0-2 .9-2 2v14c0 1.1.9 2 2 2h14c1.1 0 2-.9 2-2V5c0-1.1-.9-2-2-2zM9 17H7v-7h2v7zm4 0h-2V7h2v10zm4 0h-2v-4h2v4z\"/>\n",
              "    </g>\n",
              "</svg>\n",
              "  </button>\n",
              "\n",
              "<style>\n",
              "  .colab-df-quickchart {\n",
              "      --bg-color: #E8F0FE;\n",
              "      --fill-color: #1967D2;\n",
              "      --hover-bg-color: #E2EBFA;\n",
              "      --hover-fill-color: #174EA6;\n",
              "      --disabled-fill-color: #AAA;\n",
              "      --disabled-bg-color: #DDD;\n",
              "  }\n",
              "\n",
              "  [theme=dark] .colab-df-quickchart {\n",
              "      --bg-color: #3B4455;\n",
              "      --fill-color: #D2E3FC;\n",
              "      --hover-bg-color: #434B5C;\n",
              "      --hover-fill-color: #FFFFFF;\n",
              "      --disabled-bg-color: #3B4455;\n",
              "      --disabled-fill-color: #666;\n",
              "  }\n",
              "\n",
              "  .colab-df-quickchart {\n",
              "    background-color: var(--bg-color);\n",
              "    border: none;\n",
              "    border-radius: 50%;\n",
              "    cursor: pointer;\n",
              "    display: none;\n",
              "    fill: var(--fill-color);\n",
              "    height: 32px;\n",
              "    padding: 0;\n",
              "    width: 32px;\n",
              "  }\n",
              "\n",
              "  .colab-df-quickchart:hover {\n",
              "    background-color: var(--hover-bg-color);\n",
              "    box-shadow: 0 1px 2px rgba(60, 64, 67, 0.3), 0 1px 3px 1px rgba(60, 64, 67, 0.15);\n",
              "    fill: var(--button-hover-fill-color);\n",
              "  }\n",
              "\n",
              "  .colab-df-quickchart-complete:disabled,\n",
              "  .colab-df-quickchart-complete:disabled:hover {\n",
              "    background-color: var(--disabled-bg-color);\n",
              "    fill: var(--disabled-fill-color);\n",
              "    box-shadow: none;\n",
              "  }\n",
              "\n",
              "  .colab-df-spinner {\n",
              "    border: 2px solid var(--fill-color);\n",
              "    border-color: transparent;\n",
              "    border-bottom-color: var(--fill-color);\n",
              "    animation:\n",
              "      spin 1s steps(1) infinite;\n",
              "  }\n",
              "\n",
              "  @keyframes spin {\n",
              "    0% {\n",
              "      border-color: transparent;\n",
              "      border-bottom-color: var(--fill-color);\n",
              "      border-left-color: var(--fill-color);\n",
              "    }\n",
              "    20% {\n",
              "      border-color: transparent;\n",
              "      border-left-color: var(--fill-color);\n",
              "      border-top-color: var(--fill-color);\n",
              "    }\n",
              "    30% {\n",
              "      border-color: transparent;\n",
              "      border-left-color: var(--fill-color);\n",
              "      border-top-color: var(--fill-color);\n",
              "      border-right-color: var(--fill-color);\n",
              "    }\n",
              "    40% {\n",
              "      border-color: transparent;\n",
              "      border-right-color: var(--fill-color);\n",
              "      border-top-color: var(--fill-color);\n",
              "    }\n",
              "    60% {\n",
              "      border-color: transparent;\n",
              "      border-right-color: var(--fill-color);\n",
              "    }\n",
              "    80% {\n",
              "      border-color: transparent;\n",
              "      border-right-color: var(--fill-color);\n",
              "      border-bottom-color: var(--fill-color);\n",
              "    }\n",
              "    90% {\n",
              "      border-color: transparent;\n",
              "      border-bottom-color: var(--fill-color);\n",
              "    }\n",
              "  }\n",
              "</style>\n",
              "\n",
              "  <script>\n",
              "    async function quickchart(key) {\n",
              "      const quickchartButtonEl =\n",
              "        document.querySelector('#' + key + ' button');\n",
              "      quickchartButtonEl.disabled = true;  // To prevent multiple clicks.\n",
              "      quickchartButtonEl.classList.add('colab-df-spinner');\n",
              "      try {\n",
              "        const charts = await google.colab.kernel.invokeFunction(\n",
              "            'suggestCharts', [key], {});\n",
              "      } catch (error) {\n",
              "        console.error('Error during call to suggestCharts:', error);\n",
              "      }\n",
              "      quickchartButtonEl.classList.remove('colab-df-spinner');\n",
              "      quickchartButtonEl.classList.add('colab-df-quickchart-complete');\n",
              "    }\n",
              "    (() => {\n",
              "      let quickchartButtonEl =\n",
              "        document.querySelector('#df-651acfb9-fd6b-432e-821a-32f34be7d5c6 button');\n",
              "      quickchartButtonEl.style.display =\n",
              "        google.colab.kernel.accessAllowed ? 'block' : 'none';\n",
              "    })();\n",
              "  </script>\n",
              "</div>\n",
              "\n",
              "    </div>\n",
              "  </div>\n"
            ],
            "application/vnd.google.colaboratory.intrinsic+json": {
              "type": "dataframe",
              "variable_name": "df",
              "summary": "{\n  \"name\": \"df\",\n  \"rows\": 506,\n  \"fields\": [\n    {\n      \"column\": \"CRIM\",\n      \"properties\": {\n        \"dtype\": \"number\",\n        \"std\": 8.60154510533249,\n        \"min\": 0.00632,\n        \"max\": 88.9762,\n        \"num_unique_values\": 504,\n        \"samples\": [\n          0.09178,\n          0.05644,\n          0.10574\n        ],\n        \"semantic_type\": \"\",\n        \"description\": \"\"\n      }\n    },\n    {\n      \"column\": \"ZN\",\n      \"properties\": {\n        \"dtype\": \"number\",\n        \"std\": 23.32245299451514,\n        \"min\": 0.0,\n        \"max\": 100.0,\n        \"num_unique_values\": 26,\n        \"samples\": [\n          25.0,\n          30.0,\n          18.0\n        ],\n        \"semantic_type\": \"\",\n        \"description\": \"\"\n      }\n    },\n    {\n      \"column\": \"INDUS\",\n      \"properties\": {\n        \"dtype\": \"number\",\n        \"std\": 6.860352940897585,\n        \"min\": 0.46,\n        \"max\": 27.74,\n        \"num_unique_values\": 76,\n        \"samples\": [\n          8.14,\n          1.47,\n          1.22\n        ],\n        \"semantic_type\": \"\",\n        \"description\": \"\"\n      }\n    },\n    {\n      \"column\": \"CHAS\",\n      \"properties\": {\n        \"dtype\": \"number\",\n        \"std\": 0,\n        \"min\": 0,\n        \"max\": 1,\n        \"num_unique_values\": 2,\n        \"samples\": [\n          1,\n          0\n        ],\n        \"semantic_type\": \"\",\n        \"description\": \"\"\n      }\n    },\n    {\n      \"column\": \"NOX\",\n      \"properties\": {\n        \"dtype\": \"number\",\n        \"std\": 0.11587767566755595,\n        \"min\": 0.385,\n        \"max\": 0.871,\n        \"num_unique_values\": 81,\n        \"samples\": [\n          0.401,\n          0.538\n        ],\n        \"semantic_type\": \"\",\n        \"description\": \"\"\n      }\n    },\n    {\n      \"column\": \"RM\",\n      \"properties\": {\n        \"dtype\": \"number\",\n        \"std\": 0.7026171434153233,\n        \"min\": 3.561,\n        \"max\": 8.78,\n        \"num_unique_values\": 446,\n        \"samples\": [\n          6.849,\n          4.88\n        ],\n        \"semantic_type\": \"\",\n        \"description\": \"\"\n      }\n    },\n    {\n      \"column\": \"AGE\",\n      \"properties\": {\n        \"dtype\": \"number\",\n        \"std\": 28.148861406903617,\n        \"min\": 2.9,\n        \"max\": 100.0,\n        \"num_unique_values\": 356,\n        \"samples\": [\n          51.8,\n          33.8\n        ],\n        \"semantic_type\": \"\",\n        \"description\": \"\"\n      }\n    },\n    {\n      \"column\": \"DIS\",\n      \"properties\": {\n        \"dtype\": \"number\",\n        \"std\": 2.105710126627611,\n        \"min\": 1.1296,\n        \"max\": 12.1265,\n        \"num_unique_values\": 412,\n        \"samples\": [\n          2.2955,\n          4.2515\n        ],\n        \"semantic_type\": \"\",\n        \"description\": \"\"\n      }\n    },\n    {\n      \"column\": \"RAD\",\n      \"properties\": {\n        \"dtype\": \"number\",\n        \"std\": 8,\n        \"min\": 1,\n        \"max\": 24,\n        \"num_unique_values\": 9,\n        \"samples\": [\n          7,\n          2\n        ],\n        \"semantic_type\": \"\",\n        \"description\": \"\"\n      }\n    },\n    {\n      \"column\": \"TAX\",\n      \"properties\": {\n        \"dtype\": \"number\",\n        \"std\": 168,\n        \"min\": 187,\n        \"max\": 711,\n        \"num_unique_values\": 66,\n        \"samples\": [\n          370,\n          666\n        ],\n        \"semantic_type\": \"\",\n        \"description\": \"\"\n      }\n    },\n    {\n      \"column\": \"PTRATIO\",\n      \"properties\": {\n        \"dtype\": \"number\",\n        \"std\": 2.1649455237144406,\n        \"min\": 12.6,\n        \"max\": 22.0,\n        \"num_unique_values\": 46,\n        \"samples\": [\n          19.6,\n          15.6\n        ],\n        \"semantic_type\": \"\",\n        \"description\": \"\"\n      }\n    },\n    {\n      \"column\": \"LSTAT\",\n      \"properties\": {\n        \"dtype\": \"number\",\n        \"std\": 7.141061511348571,\n        \"min\": 1.73,\n        \"max\": 37.97,\n        \"num_unique_values\": 455,\n        \"samples\": [\n          6.15,\n          4.32\n        ],\n        \"semantic_type\": \"\",\n        \"description\": \"\"\n      }\n    },\n    {\n      \"column\": \"MEDV\",\n      \"properties\": {\n        \"dtype\": \"number\",\n        \"std\": 9.197104087379818,\n        \"min\": 5.0,\n        \"max\": 50.0,\n        \"num_unique_values\": 229,\n        \"samples\": [\n          14.1,\n          22.5\n        ],\n        \"semantic_type\": \"\",\n        \"description\": \"\"\n      }\n    },\n    {\n      \"column\": \"CAT. MEDV\",\n      \"properties\": {\n        \"dtype\": \"number\",\n        \"std\": 0,\n        \"min\": 0,\n        \"max\": 1,\n        \"num_unique_values\": 2,\n        \"samples\": [\n          1,\n          0\n        ],\n        \"semantic_type\": \"\",\n        \"description\": \"\"\n      }\n    }\n  ]\n}"
            }
          },
          "metadata": {},
          "execution_count": 73
        }
      ]
    },
    {
      "cell_type": "code",
      "source": [
        "# 데이터셋에서 결측치 확인\n",
        "missing_data = df.isna().sum()\n",
        "\n",
        "# 결측치가 있는 변수 출력\n",
        "print(missing_data[missing_data > 0])\n"
      ],
      "metadata": {
        "colab": {
          "base_uri": "https://localhost:8080/"
        },
        "id": "CW_u7uK6vgSc",
        "outputId": "54cb167d-19ac-4c1a-ab70-fa9ee89ac841"
      },
      "execution_count": 74,
      "outputs": [
        {
          "output_type": "stream",
          "name": "stdout",
          "text": [
            "Series([], dtype: int64)\n"
          ]
        }
      ]
    },
    {
      "cell_type": "markdown",
      "source": [
        "### Q7."
      ],
      "metadata": {
        "id": "59i-Df3Nug0P"
      }
    },
    {
      "cell_type": "markdown",
      "source": [
        "Run a linear regression model to predict the median house price (MEDV) as a function of CRIM, CHAS, and RM. Print the result using stargazer function.\n"
      ],
      "metadata": {
        "id": "x3NcLpXUukYf"
      }
    },
    {
      "cell_type": "code",
      "source": [
        "!pip install stargazer"
      ],
      "metadata": {
        "colab": {
          "base_uri": "https://localhost:8080/"
        },
        "id": "TU8fM6eG1Blb",
        "outputId": "a148dd00-4511-4247-cf78-2785f2500017"
      },
      "execution_count": 75,
      "outputs": [
        {
          "output_type": "stream",
          "name": "stdout",
          "text": [
            "Requirement already satisfied: stargazer in /usr/local/lib/python3.10/dist-packages (0.0.7)\n"
          ]
        }
      ]
    },
    {
      "cell_type": "code",
      "source": [
        "import statsmodels.api as sm\n",
        "from stargazer.stargazer import Stargazer\n",
        "from IPython.display import display, HTML  # Colab에서 HTML 렌더링"
      ],
      "metadata": {
        "id": "zWoC9Jws1JBN"
      },
      "execution_count": 76,
      "outputs": []
    },
    {
      "cell_type": "code",
      "source": [
        "# 선형 회귀 모델1 생성 - 종속변수(MEDV), 독립변수(CRIM, CHAS, RM)\n",
        "model1 = sm.OLS.from_formula('MEDV ~ CRIM + CHAS + RM', data=df).fit()\n",
        "\n",
        "# stargazer를 사용한 결과 출력\n",
        "stargazer = Stargazer([model1])\n",
        "stargazer.title(\"Linear Regression Results\")\n",
        "stargazer.significant_digits(3)  # 소수점 3자리로 결과 표시\n",
        "\n",
        "# HTML 출력\n",
        "html_output = stargazer.render_html()\n",
        "display(HTML(html_output))"
      ],
      "metadata": {
        "colab": {
          "base_uri": "https://localhost:8080/",
          "height": 427
        },
        "id": "T7094drFvzaQ",
        "outputId": "ccc1d4b8-e2b7-44b0-903c-6ca8b2d2778e"
      },
      "execution_count": 77,
      "outputs": [
        {
          "output_type": "display_data",
          "data": {
            "text/plain": [
              "<IPython.core.display.HTML object>"
            ],
            "text/html": [
              "Linear Regression Results<br><table style=\"text-align:center\"><tr><td colspan=\"2\" style=\"border-bottom: 1px solid black\"></td></tr>\n",
              "<tr><td style=\"text-align:left\"></td><td colspan=\"1\"><em>Dependent variable: MEDV</em></td></tr><tr><td style=\"text-align:left\"></td><tr><td style=\"text-align:left\"></td><td>(1)</td></tr>\n",
              "<tr><td colspan=\"2\" style=\"border-bottom: 1px solid black\"></td></tr>\n",
              "\n",
              "<tr><td style=\"text-align:left\">CHAS</td><td>3.763<sup>***</sup></td></tr>\n",
              "<tr><td style=\"text-align:left\"></td><td>(1.086)</td></tr>\n",
              "<tr><td style=\"text-align:left\">CRIM</td><td>-0.261<sup>***</sup></td></tr>\n",
              "<tr><td style=\"text-align:left\"></td><td>(0.033)</td></tr>\n",
              "<tr><td style=\"text-align:left\">Intercept</td><td>-28.811<sup>***</sup></td></tr>\n",
              "<tr><td style=\"text-align:left\"></td><td>(2.563)</td></tr>\n",
              "<tr><td style=\"text-align:left\">RM</td><td>8.278<sup>***</sup></td></tr>\n",
              "<tr><td style=\"text-align:left\"></td><td>(0.402)</td></tr>\n",
              "\n",
              "<td colspan=\"2\" style=\"border-bottom: 1px solid black\"></td></tr>\n",
              "<tr><td style=\"text-align: left\">Observations</td><td>506</td></tr><tr><td style=\"text-align: left\">R<sup>2</sup></td><td>0.553</td></tr><tr><td style=\"text-align: left\">Adjusted R<sup>2</sup></td><td>0.550</td></tr><tr><td style=\"text-align: left\">Residual Std. Error</td><td>6.170 (df=502)</td></tr><tr><td style=\"text-align: left\">F Statistic</td><td>206.725<sup>***</sup> (df=3; 502)</td></tr>\n",
              "<tr><td colspan=\"2\" style=\"border-bottom: 1px solid black\"></td></tr><tr><td style=\"text-align: left\">Note:</td><td colspan=\"1\" style=\"text-align: right\"><sup>*</sup>p&lt;0.1; <sup>**</sup>p&lt;0.05; <sup>***</sup>p&lt;0.01</td></tr></table>"
            ]
          },
          "metadata": {}
        }
      ]
    },
    {
      "cell_type": "markdown",
      "source": [
        "### Q8."
      ],
      "metadata": {
        "id": "LzkuGqg66D_x"
      }
    },
    {
      "cell_type": "markdown",
      "source": [
        "Interpret all the coefficients. Pay attention to the units of variables."
      ],
      "metadata": {
        "id": "7DsIqYvl6HLF"
      }
    },
    {
      "cell_type": "markdown",
      "source": [
        " MEDV가 $1,000 단위로 측정된다는 점을 고려하여, 다음과 같이 해석 할 수 있다.\n",
        "\n",
        "- CHAS: 찰스강 근처에 있는 주택은 평균적으로 \\$3,763 더 비싸다.  \n",
        "- CRIM: 범죄율이 1 단위 증가할 때마다 주택 가격은 평균적으로 \\$261 하락한다.  \n",
        "- RM: 방의 개수가 1개 증가할 때마다 주택 가격은 평균적으로 \\$8,278 상승한다.  \n",
        "- Intercept: 모델의 상수항으로, 모든 독립 변수가 0일 때의 주택 가격을 의미하며, 해석상 크게 유의미하지 않을 수 있다.\n"
      ],
      "metadata": {
        "id": "VgeDY4bc613l"
      }
    },
    {
      "cell_type": "markdown",
      "source": [
        "### Q9."
      ],
      "metadata": {
        "id": "JVS8QBvX8uji"
      }
    },
    {
      "cell_type": "markdown",
      "source": [
        "Run a linear regression model whose dependent variable is MEDV and independent variable is NOX. Interpret the coefficients.\n",
        ""
      ],
      "metadata": {
        "id": "KPfhCFFG8qKA"
      }
    },
    {
      "cell_type": "code",
      "source": [
        "# 회귀 모델2 생성 - 종속변수(MEDV), 독립변수(NOX)\n",
        "model2 = sm.OLS.from_formula('MEDV ~ NOX', data=df).fit()\n",
        "\n",
        "# 회귀 결과 출력\n",
        "print(model2.summary())\n"
      ],
      "metadata": {
        "colab": {
          "base_uri": "https://localhost:8080/"
        },
        "id": "txaGtOxb81J0",
        "outputId": "71456352-f96d-45fa-f180-6a49c375dd77"
      },
      "execution_count": 43,
      "outputs": [
        {
          "output_type": "stream",
          "name": "stdout",
          "text": [
            "                            OLS Regression Results                            \n",
            "==============================================================================\n",
            "Dep. Variable:                   MEDV   R-squared:                       0.183\n",
            "Model:                            OLS   Adj. R-squared:                  0.181\n",
            "Method:                 Least Squares   F-statistic:                     112.6\n",
            "Date:                Thu, 24 Oct 2024   Prob (F-statistic):           7.07e-24\n",
            "Time:                        15:37:02   Log-Likelihood:                -1789.2\n",
            "No. Observations:                 506   AIC:                             3582.\n",
            "Df Residuals:                     504   BIC:                             3591.\n",
            "Df Model:                           1                                         \n",
            "Covariance Type:            nonrobust                                         \n",
            "==============================================================================\n",
            "                 coef    std err          t      P>|t|      [0.025      0.975]\n",
            "------------------------------------------------------------------------------\n",
            "Intercept     41.3459      1.811     22.828      0.000      37.787      44.904\n",
            "NOX          -33.9161      3.196    -10.611      0.000     -40.196     -27.636\n",
            "==============================================================================\n",
            "Omnibus:                      165.520   Durbin-Watson:                   0.643\n",
            "Prob(Omnibus):                  0.000   Jarque-Bera (JB):              430.900\n",
            "Skew:                           1.641   Prob(JB):                     2.70e-94\n",
            "Kurtosis:                       6.109   Cond. No.                         11.3\n",
            "==============================================================================\n",
            "\n",
            "Notes:\n",
            "[1] Standard Errors assume that the covariance matrix of the errors is correctly specified.\n"
          ]
        }
      ]
    },
    {
      "cell_type": "markdown",
      "source": [
        "**계수 해석:**\n",
        "\n",
        "- NOX (질소 산화물 농도) 계수 (coef) = -33.9161 \\\n",
        "NOX 값이 1 단위 증가할 때마다 **주택 가격(MEDV)**이 평균적으로 \\$33,916.10 하락한다.\\\n",
        "p-value 또한 0.000으로, 매우 유의미한 변수이다.\\\n",
        "즉, 질소 산화물 농도가 주택 가격에 미치는 영향은 통계적으로 유의미하다고 할 수 있다.\\\n",
        "\\\n",
        "해석: NOX가 증가하면, 즉 공기 오염이 심해질수록 주택 가격이 크게 하락한다.\\\n",
        "NOX는 주택 가격에 부정적인 영향을 미치는 중요한 요인이다.\n",
        "\n",
        "\n",
        "- Intercept (절편) 계수 (coef) = 41.3459 \\\n",
        "Intercept는 NOX 값이 0일 때의 주택 가격이다.\\\n",
        "NOX가 0일 때, 주택의 중위 가격(MEDV)은 \\$41,345.90로 예측된다.\\\n",
        "P>|t| = 0.000으로 P 값 또한 매우 유의미하다.\\\n",
        "\\\n",
        "해석: 이 절편 값은 NOX가 0인 경우, 즉 공기 오염이 전혀 없는 가상의 상태에서 주택 가격이 어떻게 형성될지에 대한 예측값이다.\\\n",
        "하지만 실제로 NOX가 0인 경우는 거의 없으므로 절편의 실질적인 해석은 중요하지 않다."
      ],
      "metadata": {
        "id": "Hif8fXkJ982g"
      }
    },
    {
      "cell_type": "markdown",
      "source": [
        "\n",
        "**모델 성능:**\n",
        "- R-squared = 0.183\\\n",
        "이 모델은 **주택 가격의 약 18.3%**를 설명한다.\\\n",
        "즉, NOX (질소산화물농도) 변수만으로는 주택 가격의 변동성을 충분히 설명하지 못한다.\\\n",
        "다른 요인들이 주택 가격에 더 큰 영향을 미칠 가능성이 크다.\n",
        "\n",
        "- F-statistic = 112.6\\\n",
        "F-통계량은 모델이 유의미함을 나타낸다.\\\n",
        "p-value가 매우 낮아(0.000) 모델 전체가 통계적으로 유의미하다.\n",
        "\n"
      ],
      "metadata": {
        "id": "X6JxbUZk9jI_"
      }
    },
    {
      "cell_type": "markdown",
      "source": [
        "### Q10."
      ],
      "metadata": {
        "id": "kXQ1X_wc_nRg"
      }
    },
    {
      "cell_type": "markdown",
      "source": [
        "Add the following variables to the previous regression model: INDUS and TAX. Interpret the coefficients."
      ],
      "metadata": {
        "id": "H7ZCR8N5_lxB"
      }
    },
    {
      "cell_type": "code",
      "source": [
        "# 회귀 모델3 생성 - 종속변수(MEDV), 독립변수(NOX, + INDUS, TAX 변수 추가)\n",
        "model3 = sm.OLS.from_formula('MEDV ~ NOX + INDUS + TAX', data=df).fit()\n",
        "print(model3.summary())"
      ],
      "metadata": {
        "colab": {
          "base_uri": "https://localhost:8080/"
        },
        "id": "tEHkg98a_aAG",
        "outputId": "4b13f43a-3334-4807-c355-b3e9f830bc01"
      },
      "execution_count": 46,
      "outputs": [
        {
          "output_type": "stream",
          "name": "stdout",
          "text": [
            "                            OLS Regression Results                            \n",
            "==============================================================================\n",
            "Dep. Variable:                   MEDV   R-squared:                       0.266\n",
            "Model:                            OLS   Adj. R-squared:                  0.262\n",
            "Method:                 Least Squares   F-statistic:                     60.64\n",
            "Date:                Thu, 24 Oct 2024   Prob (F-statistic):           1.81e-33\n",
            "Time:                        15:43:04   Log-Likelihood:                -1762.0\n",
            "No. Observations:                 506   AIC:                             3532.\n",
            "Df Residuals:                     502   BIC:                             3549.\n",
            "Df Model:                           3                                         \n",
            "Covariance Type:            nonrobust                                         \n",
            "==============================================================================\n",
            "                 coef    std err          t      P>|t|      [0.025      0.975]\n",
            "------------------------------------------------------------------------------\n",
            "Intercept     34.8234      2.049     16.992      0.000      30.797      38.850\n",
            "NOX           -5.8453      4.872     -1.200      0.231     -15.417       3.727\n",
            "INDUS         -0.3494      0.088     -3.955      0.000      -0.523      -0.176\n",
            "TAX           -0.0126      0.003     -4.049      0.000      -0.019      -0.007\n",
            "==============================================================================\n",
            "Omnibus:                      197.057   Durbin-Watson:                   0.686\n",
            "Prob(Omnibus):                  0.000   Jarque-Bera (JB):              692.071\n",
            "Skew:                           1.815   Prob(JB):                    5.23e-151\n",
            "Kurtosis:                       7.433   Cond. No.                     6.56e+03\n",
            "==============================================================================\n",
            "\n",
            "Notes:\n",
            "[1] Standard Errors assume that the covariance matrix of the errors is correctly specified.\n",
            "[2] The condition number is large, 6.56e+03. This might indicate that there are\n",
            "strong multicollinearity or other numerical problems.\n"
          ]
        }
      ]
    },
    {
      "cell_type": "markdown",
      "source": [
        "**계수 해석**:\n",
        "\n",
        "- Intercept (절편): 계수 = 34.8234\\\n",
        "NOX, INDUS, TAX가 모두 0일 때 예상되는 주택 가격은 \\$34,823원으로\n",
        "이 값은 이론적인 기준점으로, 독립 변수가 0일 때의 주택 가격이다.\n",
        "\n",
        "- NOX (질소 산화물 농도): 계수 = -5.8453\\\n",
        "NOX 값이 1 단위 증가할 때, 주택 가격(MEDV)은 평균적으로 \\$5,845.30 감소한다.\\\n",
        "하지만, NOX의 p-value가 0.231로 통계적으로 유의미하지 않은 결과이다.\\\n",
        "이전 모델에서는 NOX가 주택 가격에 미치는 영향이 유의미했지만,\\\n",
        "INDUS와 TAX 변수를 추가한 후에는 NOX의 영향력이 약해졌다.\n",
        "\n",
        "- INDUS (비소매 상업 지역 비율): 계수 = -0.3494\\\n",
        "INDUS 값이 1 단위 증가할 때, 주택 가격(MEDV)은 평균적으로 \\$349.40 하락한다.\\\n",
        "p-value < 0.001이므로 INDUS는 통계적으로 매우 유의미한 변수다.\\\n",
        "이는 비소매 상업 지역의 비율이 높을수록 주택 가격이 하락하는 경향을 나타낸다.\\\n",
        "상업 지역이 많은 곳은 주거 환경이 덜 선호될 수 있기 때문입니다.\n",
        "\n",
        "- TAX (재산세율): 계수 = -0.0126\\\n",
        "TAX 값이 1 단위 증가할 때, 주택 가격(MEDV)은 평균적으로 $12.60 하락한다.\\\n",
        "p-value < 0.001이므로 TAX 역시 통계적으로 매우 유의미한 변수다.\\\n",
        "재산세율이 높을수록 주택 가격이 하락하는 경향이 있음을 보여준다.\\\n",
        "높은 재산세율은 주택 소유자에게 부담이 될 수 있으며, 이는 주택 가격 하락으로 이어질 수 있습니다.\n"
      ],
      "metadata": {
        "id": "r-4mfiMeNAzI"
      }
    },
    {
      "cell_type": "markdown",
      "source": [
        "**모델 성능 :**\n",
        "- R-squared = 0.266:\\\n",
        "이 모델은 주택 가격(MEDV)의 **26.6%**를 설명한다.\\\n",
        "이전 모델에서 R-squared 값이 0.183이었으므로, INDUS와 TAX 변수를 추가하여 모델의 설명력이 향상되었다.\n",
        "\n",
        "- F-statistic = 60.64, p-value < 0.001:\\\n",
        "모델 전체가 통계적으로 유의미하다. 즉, NOX, INDUS, TAX은 주택 가격에 영향을 미치는 중요한 변수다."
      ],
      "metadata": {
        "id": "-mHFMrtEMmML"
      }
    },
    {
      "cell_type": "markdown",
      "source": [
        "### Q11."
      ],
      "metadata": {
        "id": "7Jznv6PHPW9r"
      }
    },
    {
      "cell_type": "markdown",
      "source": [
        "Notice that coefficient of NOX was significant in Q9, but it is no longer significant in Q10 Why do you think this happened? Name the problem that describes this phenomenon."
      ],
      "metadata": {
        "id": "nmzue-y9PUii"
      }
    },
    {
      "cell_type": "markdown",
      "source": [
        "NOX 계수가 Q9에서는 유의미했지만, Q10에서는 유의미하지 않은 이유는 **다중공선성** 때문이다.\\\n",
        "다중공선성은 회귀 분석에서 독립 변수들 간에 높은 상관관계가 존재하는 경우를 말한다.\n",
        "\n",
        "Q9에서는 NOX가 유의미한 변수였지만, Q10에서 INDUS와 TAX 변수를 추가하자\\\n",
        "NOX의 p-value가 증가하여 더 이상 유의미하지 않게 되었다.\\\n",
        "이는 NOX가 INDUS 및 TAX와 상관관계가 높아,\\\n",
        "NOX가 설명하는 정보가 INDUS와 TAX에 의해 대체되었기 때문에\\\n",
        "NOX가 더 이상 독립적으로 주택 가격에 대한 영향을 설명할 수 없게 되어 통계적으로 유의미하지 않게 되었다.\n",
        "\n",
        "이미 Q10의 회귀 분석 결과에서 Condition Number = 6.56e+03로,\\\n",
        "다중공선성이 존재할 가능성이 크다고 경고하고 있다.\n"
      ],
      "metadata": {
        "id": "Mx9rh0k5PZED"
      }
    },
    {
      "cell_type": "markdown",
      "source": [
        "## Q12. (Optional, extra credit: 3 points)"
      ],
      "metadata": {
        "id": "z3nS5JuwTDkO"
      }
    },
    {
      "cell_type": "markdown",
      "source": [
        " Run analysis that you believe is appropriate to support your answer in Q11."
      ],
      "metadata": {
        "id": "bCj_P5WuTGFF"
      }
    },
    {
      "cell_type": "code",
      "source": [
        "# NOX, INDUS, TAX 변수들의 상관행렬 계산\n",
        "correlation_matrix = df[['NOX', 'INDUS', 'TAX']].corr()\n",
        "print(\"상관행렬:\")\n",
        "print(correlation_matrix)\n"
      ],
      "metadata": {
        "colab": {
          "base_uri": "https://localhost:8080/"
        },
        "id": "XK06Y8cmTdqv",
        "outputId": "efbfb849-84fe-4f1c-90a2-2258e3defa49"
      },
      "execution_count": 48,
      "outputs": [
        {
          "output_type": "stream",
          "name": "stdout",
          "text": [
            "상관행렬:\n",
            "            NOX     INDUS       TAX\n",
            "NOX    1.000000  0.763651  0.668023\n",
            "INDUS  0.763651  1.000000  0.720760\n",
            "TAX    0.668023  0.720760  1.000000\n"
          ]
        }
      ]
    },
    {
      "cell_type": "markdown",
      "source": [
        "### 상관행렬 해석:\n",
        "- NOX와 INDUS의 상관계수 = 0.763\\\n",
        "NOX와 INDUS 사이에는 높은 상관관계가 있다.\\\n",
        "이는 이 두 변수가 비슷한 정보를 제공하고 있다는 것을 의미한다.\\\n",
        "Q10에서 NOX가 유의미하지 않게 된 이유는, INDUS 변수가 추가되면서 NOX의 영향이 중복될 수 있었기 때문이다.\n",
        "\n",
        "- NOX와 TAX의 상관계수 = 0.668\\\n",
        "NOX와 TAX 역시 상당한 상관관계를 가지고 있다.\\\n",
        "이는 NOX와 TAX가 주택 가격에 비슷한 영향을 미칠 수 있다는 것을 나타낸다.\n",
        "\n",
        "\n",
        "- INDUS와 TAX의 상관계수 = 0.721\\\n",
        "INDUS와 TAX 역시 높은 상관관계를 보인다.\n",
        "\n",
        "\n",
        "### 결론:\n",
        "NOX, INDUS, TAX 변수들 간에 높은 상관관계가 존재하며, 이는 다중공선성 문제를 일으키고 있다.\\\n",
        "NOX가 Q9에서는 유의미했지만, Q10에서는 유의미하지 않은 이유는\\\n",
        "INDUS와 TAX 변수가 추가되면서 NOX의 설명력이 약해졌기 때문이다.\n",
        "이 결과는 다중공선성으로 인해 NOX의 독립적인 영향이 약해졌음을 보여준다."
      ],
      "metadata": {
        "id": "hoXBW86gTt6X"
      }
    },
    {
      "cell_type": "markdown",
      "source": [
        "=== END OF THE TEST ==="
      ],
      "metadata": {
        "id": "nER_ClqVaTLW"
      }
    }
  ]
}